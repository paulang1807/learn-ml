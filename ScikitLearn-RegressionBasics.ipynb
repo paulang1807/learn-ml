{
 "cells": [
  {
   "cell_type": "markdown",
   "metadata": {},
   "source": [
    "## Data Prep"
   ]
  },
  {
   "cell_type": "code",
   "execution_count": 1,
   "metadata": {},
   "outputs": [],
   "source": [
    "import numpy as np"
   ]
  },
  {
   "cell_type": "code",
   "execution_count": 6,
   "metadata": {},
   "outputs": [
    {
     "name": "stdout",
     "output_type": "stream",
     "text": [
      "[0.         0.05263158 0.10526316 0.15789474 0.21052632 0.26315789\n",
      " 0.31578947 0.36842105 0.42105263 0.47368421 0.52631579 0.57894737\n",
      " 0.63157895 0.68421053 0.73684211 0.78947368 0.84210526 0.89473684\n",
      " 0.94736842 1.        ]\n"
     ]
    }
   ],
   "source": [
    "# Generate input data\n",
    "np.random.seed(100)\n",
    "\n",
    "n_samples = 20\n",
    "\n",
    "X = np.linspace(0, 1, n_samples)\n",
    "print(X)"
   ]
  },
  {
   "cell_type": "code",
   "execution_count": 7,
   "metadata": {},
   "outputs": [
    {
     "name": "stdout",
     "output_type": "stream",
     "text": [
      "[ 0.          0.24548549  0.47594739  0.67728157  0.83716648  0.94581724\n",
      "  0.99658449  0.9863613   0.91577333  0.78914051  0.61421271  0.40169542\n",
      "  0.16459459 -0.08257935 -0.32469947 -0.54694816 -0.73572391 -0.87947375\n",
      " -0.96940027 -1.        ]\n"
     ]
    }
   ],
   "source": [
    "# Set a true function as a piece of a sin curve.\n",
    "f1 = lambda x: np.sin(1.5 * np.pi * x)\n",
    "# Use true function to generate some ouput values\n",
    "y = f1(X)\n",
    "print(y)"
   ]
  },
  {
   "cell_type": "code",
   "execution_count": 8,
   "metadata": {},
   "outputs": [
    {
     "name": "stdout",
     "output_type": "stream",
     "text": [
      "[-0.34995309  0.31402157  0.70655455  0.62679436  1.03343064  1.04866101\n",
      "  1.04082043  0.77235264  0.87787416  0.8401408   0.52260732  0.48872812\n",
      "  0.04787558  0.08079007 -0.19015531 -0.56783039 -0.84197999 -0.67352721\n",
      " -1.05702739 -1.22366365]\n"
     ]
    }
   ],
   "source": [
    "# Add some noise to the output data\n",
    "y += np.random.randn(n_samples) * 0.2\n",
    "print(y)"
   ]
  },
  {
   "cell_type": "code",
   "execution_count": 10,
   "metadata": {},
   "outputs": [
    {
     "name": "stdout",
     "output_type": "stream",
     "text": [
      "[[0.        ]\n",
      " [0.05263158]\n",
      " [0.10526316]\n",
      " [0.15789474]\n",
      " [0.21052632]\n",
      " [0.26315789]\n",
      " [0.31578947]\n",
      " [0.36842105]\n",
      " [0.42105263]\n",
      " [0.47368421]\n",
      " [0.52631579]\n",
      " [0.57894737]\n",
      " [0.63157895]\n",
      " [0.68421053]\n",
      " [0.73684211]\n",
      " [0.78947368]\n",
      " [0.84210526]\n",
      " [0.89473684]\n",
      " [0.94736842]\n",
      " [1.        ]]\n"
     ]
    }
   ],
   "source": [
    "# Convert input to a feature vector\n",
    "X = np.transpose([X])\n",
    "print(X)"
   ]
  },
  {
   "cell_type": "markdown",
   "metadata": {},
   "source": [
    "## Linear Regression\n",
    "http://scikit-learn.org/stable/modules/generated/sklearn.linear_model.LinearRegression.html"
   ]
  },
  {
   "cell_type": "code",
   "execution_count": 11,
   "metadata": {},
   "outputs": [],
   "source": [
    "from sklearn.linear_model import LinearRegression"
   ]
  },
  {
   "cell_type": "code",
   "execution_count": 16,
   "metadata": {},
   "outputs": [
    {
     "name": "stdout",
     "output_type": "stream",
     "text": [
      "1.034071520568776\n",
      "[-1.71849162]\n",
      "Estimated function: y = 1.03 + -1.72x\n"
     ]
    }
   ],
   "source": [
    "# With Intercept\n",
    "lr = LinearRegression(fit_intercept=True)\n",
    "lr.fit(X, y)\n",
    "print (lr.intercept_)\n",
    "print (lr.coef_)\n",
    "print ('Estimated function: y = {:.2f} + {:.2f}x'.format(lr.intercept_, lr.coef_[0]))"
   ]
  },
  {
   "cell_type": "code",
   "execution_count": 17,
   "metadata": {},
   "outputs": [
    {
     "name": "stdout",
     "output_type": "stream",
     "text": [
      "0.0\n",
      "[-0.20715632]\n",
      "Estimated function: y = 0.00 + -0.21x\n"
     ]
    }
   ],
   "source": [
    "# Without Intercept\n",
    "lr = LinearRegression(fit_intercept=False)\n",
    "lr.fit(X, y)\n",
    "print (lr.intercept_)\n",
    "print (lr.coef_)\n",
    "print ('Estimated function: y = {:.2f} + {:.2f}x'.format(lr.intercept_, lr.coef_[0]))"
   ]
  },
  {
   "cell_type": "markdown",
   "metadata": {},
   "source": [
    "## Polynomial Regression"
   ]
  },
  {
   "cell_type": "code",
   "execution_count": 18,
   "metadata": {},
   "outputs": [],
   "source": [
    "from sklearn.preprocessing import PolynomialFeatures"
   ]
  },
  {
   "cell_type": "code",
   "execution_count": 19,
   "metadata": {},
   "outputs": [
    {
     "name": "stdout",
     "output_type": "stream",
     "text": [
      "[[0.         0.        ]\n",
      " [0.05263158 0.00277008]\n",
      " [0.10526316 0.01108033]\n",
      " [0.15789474 0.02493075]\n",
      " [0.21052632 0.04432133]\n",
      " [0.26315789 0.06925208]\n",
      " [0.31578947 0.09972299]\n",
      " [0.36842105 0.13573407]\n",
      " [0.42105263 0.17728532]\n",
      " [0.47368421 0.22437673]\n",
      " [0.52631579 0.27700831]\n",
      " [0.57894737 0.33518006]\n",
      " [0.63157895 0.39889197]\n",
      " [0.68421053 0.46814404]\n",
      " [0.73684211 0.54293629]\n",
      " [0.78947368 0.6232687 ]\n",
      " [0.84210526 0.70914127]\n",
      " [0.89473684 0.80055402]\n",
      " [0.94736842 0.89750693]\n",
      " [1.         1.        ]]\n"
     ]
    }
   ],
   "source": [
    "# Generate more features\n",
    "num_features = 2\n",
    "pf = PolynomialFeatures(degree=num_features, include_bias=False)\n",
    "X2 = pf.fit_transform(X)\n",
    "print (X2)"
   ]
  },
  {
   "cell_type": "code",
   "execution_count": 21,
   "metadata": {},
   "outputs": [
    {
     "name": "stdout",
     "output_type": "stream",
     "text": [
      "0.17224314735095428\n",
      "[ 3.73975474 -5.45824636]\n",
      "Estimated function: y = 0.17 + 3.74x + -5.46x1\n"
     ]
    }
   ],
   "source": [
    "lr = LinearRegression(fit_intercept=True)\n",
    "lr.fit(X2, y)\n",
    "print (lr.intercept_)\n",
    "print (lr.coef_)\n",
    "print ('Estimated function: y = {:.2f} + {:.2f}x + {:.2f}x1'.format(lr.intercept_, lr.coef_[0], lr.coef_[1]))"
   ]
  },
  {
   "cell_type": "markdown",
   "metadata": {},
   "source": [
    "## Predict"
   ]
  },
  {
   "cell_type": "code",
   "execution_count": 23,
   "metadata": {},
   "outputs": [
    {
     "name": "stdout",
     "output_type": "stream",
     "text": [
      "[0.         0.01010101 0.02020202 0.03030303 0.04040404 0.05050505\n",
      " 0.06060606 0.07070707 0.08080808 0.09090909 0.1010101  0.11111111\n",
      " 0.12121212 0.13131313 0.14141414 0.15151515 0.16161616 0.17171717\n",
      " 0.18181818 0.19191919 0.2020202  0.21212121 0.22222222 0.23232323\n",
      " 0.24242424 0.25252525 0.26262626 0.27272727 0.28282828 0.29292929\n",
      " 0.3030303  0.31313131 0.32323232 0.33333333 0.34343434 0.35353535\n",
      " 0.36363636 0.37373737 0.38383838 0.39393939 0.4040404  0.41414141\n",
      " 0.42424242 0.43434343 0.44444444 0.45454545 0.46464646 0.47474747\n",
      " 0.48484848 0.49494949 0.50505051 0.51515152 0.52525253 0.53535354\n",
      " 0.54545455 0.55555556 0.56565657 0.57575758 0.58585859 0.5959596\n",
      " 0.60606061 0.61616162 0.62626263 0.63636364 0.64646465 0.65656566\n",
      " 0.66666667 0.67676768 0.68686869 0.6969697  0.70707071 0.71717172\n",
      " 0.72727273 0.73737374 0.74747475 0.75757576 0.76767677 0.77777778\n",
      " 0.78787879 0.7979798  0.80808081 0.81818182 0.82828283 0.83838384\n",
      " 0.84848485 0.85858586 0.86868687 0.87878788 0.88888889 0.8989899\n",
      " 0.90909091 0.91919192 0.92929293 0.93939394 0.94949495 0.95959596\n",
      " 0.96969697 0.97979798 0.98989899 1.        ]\n"
     ]
    }
   ],
   "source": [
    "X_test = np.linspace(0, 1, 100)\n",
    "print(X_test)"
   ]
  },
  {
   "cell_type": "code",
   "execution_count": 26,
   "metadata": {},
   "outputs": [],
   "source": [
    "num_features = 2\n",
    "pf = PolynomialFeatures(degree=num_features, include_bias=False)\n",
    "X2_test = pf.fit_transform(X_test[:, np.newaxis])"
   ]
  },
  {
   "cell_type": "code",
   "execution_count": 29,
   "metadata": {},
   "outputs": [
    {
     "name": "stdout",
     "output_type": "stream",
     "text": [
      "[ 0.17224315  0.20946154  0.24556612  0.28055688  0.31443384  0.34719697\n",
      "  0.37884629  0.4093818   0.4388035   0.46711138  0.49430544  0.52038569\n",
      "  0.54535213  0.56920476  0.59194356  0.61356856  0.63407974  0.65347711\n",
      "  0.67176066  0.6889304   0.70498632  0.71992843  0.73375673  0.74647121\n",
      "  0.75807188  0.76855873  0.77793177  0.78619099  0.7933364   0.799368\n",
      "  0.80428578  0.80808975  0.8107799   0.81235624  0.81281877  0.81216748\n",
      "  0.81040238  0.80752346  0.80353073  0.79842418  0.79220383  0.78486965\n",
      "  0.77642166  0.76685986  0.75618425  0.74439482  0.73149157  0.71747451\n",
      "  0.70234364  0.68609895  0.66874045  0.65026814  0.63068201  0.60998206\n",
      "  0.5881683   0.56524073  0.54119935  0.51604415  0.48977513  0.4623923\n",
      "  0.43389566  0.4042852   0.37356093  0.34172285  0.30877095  0.27470523\n",
      "  0.2395257   0.20323236  0.16582521  0.12730423  0.08766945  0.04692085\n",
      "  0.00505844 -0.03791779 -0.08200783 -0.12721169 -0.17352936 -0.22096084\n",
      " -0.26950614 -0.31916525 -0.36993818 -0.42182492 -0.47482547 -0.52893984\n",
      " -0.58416802 -0.64051002 -0.69796583 -0.75653546 -0.8162189  -0.87701615\n",
      " -0.93892722 -1.0019521  -1.0660908  -1.13134331 -1.19770964 -1.26518977\n",
      " -1.33378373 -1.4034915  -1.47431308 -1.54624847]\n"
     ]
    }
   ],
   "source": [
    "Y_test = lr.predict(X2_test)\n",
    "print(Y_test)"
   ]
  },
  {
   "cell_type": "code",
   "execution_count": null,
   "metadata": {},
   "outputs": [],
   "source": []
  }
 ],
 "metadata": {
  "kernelspec": {
   "display_name": "Python 3",
   "language": "python",
   "name": "python3"
  },
  "language_info": {
   "codemirror_mode": {
    "name": "ipython",
    "version": 3
   },
   "file_extension": ".py",
   "mimetype": "text/x-python",
   "name": "python",
   "nbconvert_exporter": "python",
   "pygments_lexer": "ipython3",
   "version": "3.8.5"
  }
 },
 "nbformat": 4,
 "nbformat_minor": 4
}
