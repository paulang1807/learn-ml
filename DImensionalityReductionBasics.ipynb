{
 "cells": [
  {
   "cell_type": "markdown",
   "id": "4e44c789-6488-4346-9505-03d12a930ea5",
   "metadata": {},
   "source": [
    "Colab Link: https://colab.research.google.com/drive/1VKzfu04pJnEt1ykFs5PXZE3uskzz768W"
   ]
  },
  {
   "cell_type": "code",
   "execution_count": 1,
   "id": "54dc6e81-21e3-4347-80eb-1c402b0ae9fc",
   "metadata": {},
   "outputs": [],
   "source": [
    "import numpy as np\n",
    "import matplotlib.pyplot as plt\n",
    "import pandas as pd"
   ]
  },
  {
   "cell_type": "markdown",
   "id": "072e6065-b2dd-45c5-a166-4161eb88461f",
   "metadata": {},
   "source": [
    "## Principal Component Analysis"
   ]
  },
  {
   "cell_type": "markdown",
   "id": "f445ef7a-c58b-45c6-ab48-3386682ae604",
   "metadata": {},
   "source": [
    "### Data Prep"
   ]
  },
  {
   "cell_type": "markdown",
   "id": "08b7bbe7-4fff-4574-83fb-452306f69bbf",
   "metadata": {
    "tags": []
   },
   "source": [
    "#### Read"
   ]
  },
  {
   "cell_type": "code",
   "execution_count": 47,
   "id": "74906bba-8f48-4867-9567-23a47c8679d6",
   "metadata": {},
   "outputs": [
    {
     "data": {
      "text/html": [
       "<div>\n",
       "<style scoped>\n",
       "    .dataframe tbody tr th:only-of-type {\n",
       "        vertical-align: middle;\n",
       "    }\n",
       "\n",
       "    .dataframe tbody tr th {\n",
       "        vertical-align: top;\n",
       "    }\n",
       "\n",
       "    .dataframe thead th {\n",
       "        text-align: right;\n",
       "    }\n",
       "</style>\n",
       "<table border=\"1\" class=\"dataframe\">\n",
       "  <thead>\n",
       "    <tr style=\"text-align: right;\">\n",
       "      <th></th>\n",
       "      <th>Alcohol</th>\n",
       "      <th>Malic_Acid</th>\n",
       "      <th>Ash</th>\n",
       "      <th>Ash_Alcanity</th>\n",
       "      <th>Magnesium</th>\n",
       "      <th>Total_Phenols</th>\n",
       "      <th>Flavanoids</th>\n",
       "      <th>Nonflavanoid_Phenols</th>\n",
       "      <th>Proanthocyanins</th>\n",
       "      <th>Color_Intensity</th>\n",
       "      <th>Hue</th>\n",
       "      <th>OD280</th>\n",
       "      <th>Proline</th>\n",
       "      <th>Customer_Segment</th>\n",
       "    </tr>\n",
       "  </thead>\n",
       "  <tbody>\n",
       "    <tr>\n",
       "      <th>0</th>\n",
       "      <td>14.23</td>\n",
       "      <td>1.71</td>\n",
       "      <td>2.43</td>\n",
       "      <td>15.6</td>\n",
       "      <td>127</td>\n",
       "      <td>2.80</td>\n",
       "      <td>3.06</td>\n",
       "      <td>0.28</td>\n",
       "      <td>2.29</td>\n",
       "      <td>5.64</td>\n",
       "      <td>1.04</td>\n",
       "      <td>3.92</td>\n",
       "      <td>1065</td>\n",
       "      <td>1</td>\n",
       "    </tr>\n",
       "    <tr>\n",
       "      <th>1</th>\n",
       "      <td>13.20</td>\n",
       "      <td>1.78</td>\n",
       "      <td>2.14</td>\n",
       "      <td>11.2</td>\n",
       "      <td>100</td>\n",
       "      <td>2.65</td>\n",
       "      <td>2.76</td>\n",
       "      <td>0.26</td>\n",
       "      <td>1.28</td>\n",
       "      <td>4.38</td>\n",
       "      <td>1.05</td>\n",
       "      <td>3.40</td>\n",
       "      <td>1050</td>\n",
       "      <td>1</td>\n",
       "    </tr>\n",
       "  </tbody>\n",
       "</table>\n",
       "</div>"
      ],
      "text/plain": [
       "   Alcohol  Malic_Acid   Ash  Ash_Alcanity  Magnesium  Total_Phenols  \\\n",
       "0    14.23        1.71  2.43          15.6        127           2.80   \n",
       "1    13.20        1.78  2.14          11.2        100           2.65   \n",
       "\n",
       "   Flavanoids  Nonflavanoid_Phenols  Proanthocyanins  Color_Intensity   Hue  \\\n",
       "0        3.06                  0.28             2.29             5.64  1.04   \n",
       "1        2.76                  0.26             1.28             4.38  1.05   \n",
       "\n",
       "   OD280  Proline  Customer_Segment  \n",
       "0   3.92     1065                 1  \n",
       "1   3.40     1050                 1  "
      ]
     },
     "execution_count": 47,
     "metadata": {},
     "output_type": "execute_result"
    }
   ],
   "source": [
    "dataset = pd.read_csv('data/Wine.csv')\n",
    "dataset.head(2)"
   ]
  },
  {
   "cell_type": "code",
   "execution_count": 48,
   "id": "01fbb3f8-3ebc-40bc-9a7a-aa943b4fa1aa",
   "metadata": {},
   "outputs": [
    {
     "name": "stdout",
     "output_type": "stream",
     "text": [
      "<class 'numpy.ndarray'>\n",
      "(178, 13)\n",
      "<class 'numpy.ndarray'>\n",
      "(178,)\n"
     ]
    }
   ],
   "source": [
    "X = dataset.iloc[:, :-1].values   # Get all Rows and All but last column - independent variables\n",
    "y = dataset.iloc[:, -1].values    # Get all Rows and last column - dependent variable\n",
    "# print(\"X Values: \", X)\n",
    "print(type(X))\n",
    "print(X.shape)\n",
    "# print(\"y Values: \", y)\n",
    "print(type(y))\n",
    "print(y.shape)"
   ]
  },
  {
   "cell_type": "markdown",
   "id": "febdf319-5272-4714-ad6c-7cf55160626d",
   "metadata": {
    "tags": []
   },
   "source": [
    "### Train Test Split"
   ]
  },
  {
   "cell_type": "code",
   "execution_count": 49,
   "id": "08c867a2-3105-4dcf-a0fc-1a49963d144a",
   "metadata": {},
   "outputs": [],
   "source": [
    "from sklearn.model_selection import train_test_split\n",
    "X_train, X_test, y_train, y_test = train_test_split(X, y, test_size = 0.2, random_state = 0)"
   ]
  },
  {
   "cell_type": "markdown",
   "id": "3171de52-c382-4b70-ad01-40968809370e",
   "metadata": {
    "tags": []
   },
   "source": [
    "### Feature Scaling"
   ]
  },
  {
   "cell_type": "code",
   "execution_count": 50,
   "id": "bc62ee3d-cbbb-4a48-8139-ddc033a57555",
   "metadata": {},
   "outputs": [],
   "source": [
    "from sklearn.preprocessing import StandardScaler"
   ]
  },
  {
   "cell_type": "code",
   "execution_count": 51,
   "id": "2e1d9b9d-b7c3-48f1-a556-c13aee682c85",
   "metadata": {},
   "outputs": [],
   "source": [
    "sc = StandardScaler()\n",
    "X_train = sc.fit_transform(X_train)"
   ]
  },
  {
   "cell_type": "markdown",
   "id": "b0685d72-5e89-49ef-b013-3496d8d30c0b",
   "metadata": {},
   "source": [
    "### Apply PCA"
   ]
  },
  {
   "cell_type": "code",
   "execution_count": 7,
   "id": "4b382474-ed07-49c3-b0df-386cda787aff",
   "metadata": {},
   "outputs": [],
   "source": [
    "from sklearn.decomposition import PCA"
   ]
  },
  {
   "cell_type": "code",
   "execution_count": 52,
   "id": "05787eac-4230-445e-9e41-96d647efc9d1",
   "metadata": {},
   "outputs": [],
   "source": [
    "# n_components is the final number of extracted features\n",
    "# start with 2, increase if the prediction is not good enough\n",
    "pca = PCA(n_components = 2)  \n",
    "X_train = pca.fit_transform(X_train)"
   ]
  },
  {
   "cell_type": "code",
   "execution_count": 41,
   "id": "32dd986c-f9c7-4bb0-a104-1357e6a97882",
   "metadata": {},
   "outputs": [],
   "source": [
    "pca_3 = PCA(n_components = 3)  \n",
    "X_train_pca3 = pca_3.fit_transform(X_train)"
   ]
  },
  {
   "cell_type": "markdown",
   "id": "6646c6c4-de39-4c90-a2d5-6c3a6d0d653e",
   "metadata": {},
   "source": [
    "### Train Model and Predict"
   ]
  },
  {
   "cell_type": "code",
   "execution_count": 53,
   "id": "1116c6a2-b6ed-48bd-8143-34ec78001e45",
   "metadata": {},
   "outputs": [],
   "source": [
    "# Logistic Regression\n",
    "from sklearn.linear_model import LogisticRegression\n",
    "c_lr = LogisticRegression(random_state = 0)\n",
    "c_lr.fit(X_train, y_train)\n",
    "y_pred_lr = c_lr.predict(pca.transform(sc.transform(X_test)))"
   ]
  },
  {
   "cell_type": "code",
   "execution_count": 43,
   "id": "ca105ed0-c585-4ff2-8661-a2764ca80aa5",
   "metadata": {},
   "outputs": [],
   "source": [
    "# Logistic Regression with 3 components\n",
    "from sklearn.linear_model import LogisticRegression\n",
    "c_lr = LogisticRegression(random_state = 0)\n",
    "c_lr.fit(X_train_pca3, y_train)\n",
    "y_pred_lr_pca3 = c_lr.predict(pca_3.transform(sc.transform(X_test)))"
   ]
  },
  {
   "cell_type": "code",
   "execution_count": 18,
   "id": "f48d2fc6-c159-4e1b-b05d-da6550503ad8",
   "metadata": {},
   "outputs": [],
   "source": [
    "# SVM\n",
    "from sklearn.svm import SVC\n",
    "c_svc = SVC(kernel=\"rbf\", random_state=0)\n",
    "c_svc.fit(X_train,y_train)\n",
    "y_pred_svc = c_svc.predict(pca.transform(sc.transform(X_test)))"
   ]
  },
  {
   "cell_type": "code",
   "execution_count": 19,
   "id": "5117056a-f359-4177-b69e-6a3065e9b1bc",
   "metadata": {},
   "outputs": [],
   "source": [
    "# Naive Bayes\n",
    "from sklearn.naive_bayes import GaussianNB\n",
    "c_gnb = GaussianNB()\n",
    "c_gnb.fit(X_train, y_train)\n",
    "y_pred_gnb = c_gnb.predict(pca.transform(sc.transform(X_test)))"
   ]
  },
  {
   "cell_type": "code",
   "execution_count": 20,
   "id": "10939e87-1a15-4ee0-9fd8-1661c02a927a",
   "metadata": {},
   "outputs": [],
   "source": [
    "# Random Forest\n",
    "from sklearn.ensemble import RandomForestClassifier\n",
    "c_rf = RandomForestClassifier(n_estimators=10, random_state=0)\n",
    "c_rf.fit(X_train, y_train)\n",
    "y_pred_rf = c_rf.predict(pca.transform(sc.transform(X_test)))"
   ]
  },
  {
   "cell_type": "markdown",
   "id": "ac499fc5-d060-40f3-bfd2-fb459fcba4ae",
   "metadata": {},
   "source": [
    "### Confusion Matrix"
   ]
  },
  {
   "cell_type": "code",
   "execution_count": 10,
   "id": "208d12c4-bad9-40b8-9b7c-32ab4da81973",
   "metadata": {},
   "outputs": [],
   "source": [
    "from sklearn.metrics import confusion_matrix"
   ]
  },
  {
   "cell_type": "code",
   "execution_count": 27,
   "id": "dd21c5de-7d9e-495c-a5df-0642c45305b4",
   "metadata": {},
   "outputs": [
    {
     "name": "stdout",
     "output_type": "stream",
     "text": [
      "Confusion Matrix for Logistic Regression:  [[14  0  0]\n",
      " [ 1 15  0]\n",
      " [ 0  0  6]]\n",
      "Number of correct predictions using Logistic Regression:  35\n",
      "Number of incorrect predictions using Logistic Regression:  1\n"
     ]
    }
   ],
   "source": [
    "# Logistic Regression\n",
    "cm_lr = confusion_matrix(y_test, y_pred_lr)\n",
    "print(\"Confusion Matrix for Logistic Regression: \",cm_lr)\n",
    "print(\"Number of correct predictions using Logistic Regression: \",cm_lr[0][0] + cm_lr[1][1] + cm_lr[2][2])\n",
    "print(\"Number of incorrect predictions using Logistic Regression: \",cm_lr[0][1] + cm_lr[0][2] + cm_lr[1][0] + cm_lr[1][2] + cm_lr[2][0] + cm_lr[2][1])"
   ]
  },
  {
   "cell_type": "code",
   "execution_count": 44,
   "id": "1c67f579-ad0c-4a33-ae8e-51407da3effa",
   "metadata": {},
   "outputs": [
    {
     "name": "stdout",
     "output_type": "stream",
     "text": [
      "Confusion Matrix for Logistic Regression:  [[14  0  0]\n",
      " [ 0 16  0]\n",
      " [ 0  0  6]]\n",
      "Number of correct predictions using Logistic Regression:  36\n",
      "Number of incorrect predictions using Logistic Regression:  0\n"
     ]
    }
   ],
   "source": [
    "# Logistic Regression with 3 components\n",
    "cm_lr_pca3 = confusion_matrix(y_test, y_pred_lr_pca3)\n",
    "print(\"Confusion Matrix for Logistic Regression: \",cm_lr_pca3)\n",
    "print(\"Number of correct predictions using Logistic Regression: \",cm_lr_pca3[0][0] + cm_lr_pca3[1][1] + cm_lr_pca3[2][2])\n",
    "print(\"Number of incorrect predictions using Logistic Regression: \",cm_lr_pca3[0][1] + cm_lr_pca3[0][2] + cm_lr_pca3[1][0] + cm_lr_pca3[1][2] + cm_lr_pca3[2][0] + cm_lr_pca3[2][1])"
   ]
  },
  {
   "cell_type": "code",
   "execution_count": 28,
   "id": "96725041-1fb9-4051-abea-00d2301e1e7b",
   "metadata": {},
   "outputs": [
    {
     "name": "stdout",
     "output_type": "stream",
     "text": [
      "Confusion Matrix for SVC:  [[14  0  0]\n",
      " [ 1 15  0]\n",
      " [ 0  0  6]]\n",
      "Number of correct predictions using SVC:  35\n",
      "Number of incorrect predictions using SVC:  1\n"
     ]
    }
   ],
   "source": [
    "# SVC\n",
    "cm_svc = confusion_matrix(y_test, y_pred_svc)\n",
    "print(\"Confusion Matrix for SVC: \",cm_svc)\n",
    "print(\"Number of correct predictions using SVC: \",cm_svc[0][0] + cm_svc[1][1] + cm_svc[2][2])\n",
    "print(\"Number of incorrect predictions using SVC: \",cm_svc[0][1] + cm_svc[0][2] + cm_svc[1][0] + cm_svc[1][2] + cm_svc[2][0] + cm_svc[2][1])"
   ]
  },
  {
   "cell_type": "code",
   "execution_count": 29,
   "id": "42f90669-f9e5-4361-9dd7-56d9a70ce952",
   "metadata": {},
   "outputs": [
    {
     "name": "stdout",
     "output_type": "stream",
     "text": [
      "Confusion Matrix for Naive Bayes:  [[14  0  0]\n",
      " [ 1 15  0]\n",
      " [ 0  0  6]]\n",
      "Number of correct predictions using Naive Bayes:  35\n",
      "Number of incorrect predictions using Naive Bayes:  1\n"
     ]
    }
   ],
   "source": [
    "# Naive Bayes\n",
    "cm_gnb = confusion_matrix(y_test, y_pred_gnb)\n",
    "print(\"Confusion Matrix for Naive Bayes: \",cm_gnb)\n",
    "print(\"Number of correct predictions using Naive Bayes: \",cm_gnb[0][0] + cm_gnb[1][1] + cm_gnb[2][2])\n",
    "print(\"Number of incorrect predictions using Naive Bayes: \",cm_gnb[0][1] + cm_gnb[0][2] + cm_gnb[1][0] + cm_gnb[1][2] + cm_gnb[2][0] + cm_gnb[2][1])"
   ]
  },
  {
   "cell_type": "code",
   "execution_count": 30,
   "id": "adc2ed95-7dab-4bdc-86b1-4eef118bed6c",
   "metadata": {},
   "outputs": [
    {
     "name": "stdout",
     "output_type": "stream",
     "text": [
      "Confusion Matrix for Random Forest:  [[14  0  0]\n",
      " [ 1 15  0]\n",
      " [ 0  0  6]]\n",
      "Number of correct predictions using Random Forest:  35\n",
      "Number of incorrect predictions using Random Forest:  1\n"
     ]
    }
   ],
   "source": [
    "# Random Forest\n",
    "cm_rf = confusion_matrix(y_test, y_pred_rf)\n",
    "print(\"Confusion Matrix for Random Forest: \",cm_rf)\n",
    "print(\"Number of correct predictions using Random Forest: \",cm_rf[0][0] + cm_rf[1][1] + cm_rf[2][2])\n",
    "print(\"Number of incorrect predictions using Random Forest: \",cm_rf[0][1] + cm_rf[0][2] + cm_rf[1][0] + cm_rf[1][2] + cm_rf[2][0] + cm_rf[2][1])"
   ]
  },
  {
   "cell_type": "markdown",
   "id": "ff7be6e8-bd75-4b7a-bfc3-146984574cba",
   "metadata": {},
   "source": [
    "### Evaluate"
   ]
  },
  {
   "cell_type": "code",
   "execution_count": 24,
   "id": "3b89bd1e-31dc-41cc-9ba4-2ae174411d77",
   "metadata": {},
   "outputs": [],
   "source": [
    "from sklearn.metrics import accuracy_score"
   ]
  },
  {
   "cell_type": "code",
   "execution_count": 54,
   "id": "8ba98a3b-2cc9-482d-bf27-d763775fdb44",
   "metadata": {},
   "outputs": [
    {
     "name": "stdout",
     "output_type": "stream",
     "text": [
      "Accuracy for Logistic Regression:  0.9722222222222222\n",
      "Accuracy for Logistic Regression with 3 components:  1.0\n",
      "Accuracy for SVC:  0.9722222222222222\n",
      "Accuracy for Naive Bayes:  0.9722222222222222\n",
      "Accuracy for Random Forest:  0.9722222222222222\n"
     ]
    }
   ],
   "source": [
    "print(\"Accuracy for Logistic Regression: \",accuracy_score(y_test, y_pred_lr))\n",
    "print(\"Accuracy for Logistic Regression with 3 components: \",accuracy_score(y_test, y_pred_lr_pca3))\n",
    "print(\"Accuracy for SVC: \",accuracy_score(y_test, y_pred_svc))\n",
    "print(\"Accuracy for Naive Bayes: \",accuracy_score(y_test, y_pred_gnb))\n",
    "print(\"Accuracy for Random Forest: \",accuracy_score(y_test, y_pred_rf))"
   ]
  },
  {
   "cell_type": "markdown",
   "id": "7627e29e-25ae-4c2b-be0f-19873f90f733",
   "metadata": {},
   "source": [
    "### Vizualize"
   ]
  },
  {
   "cell_type": "markdown",
   "id": "a8d387fe-3c0b-48fc-b27f-1d3ab9a1fb27",
   "metadata": {},
   "source": [
    "#### Training Set"
   ]
  },
  {
   "cell_type": "code",
   "execution_count": null,
   "id": "f066e048-2d6f-4792-8dab-8272c14f87f0",
   "metadata": {},
   "outputs": [],
   "source": [
    "from matplotlib.colors import ListedColormap"
   ]
  },
  {
   "cell_type": "code",
   "execution_count": 32,
   "id": "7f2bf560-a40c-4b78-a08c-d135c919460a",
   "metadata": {},
   "outputs": [
    {
     "name": "stderr",
     "output_type": "stream",
     "text": [
      "/var/folders/ls/5lqzwfjn3s76sfqks59rdzdm0000gn/T/ipykernel_96971/2123219577.py:10: UserWarning: *c* argument looks like a single numeric RGB or RGBA sequence, which should be avoided as value-mapping will have precedence in case its length matches with *x* & *y*.  Please use the *color* keyword-argument or provide a 2D array with a single row if you intend to specify the same RGB or RGBA value for all points.\n",
      "  plt.scatter(X_set[y_set == j, 0], X_set[y_set == j, 1],\n"
     ]
    },
    {
     "data": {
      "image/png": "[encoded data removed]",
      "text/plain": [
       "<Figure size 640x480 with 1 Axes>"
      ]
     },
     "metadata": {},
     "output_type": "display_data"
    }
   ],
   "source": [
    "# Logistic Regression Results\n",
    "X_set, y_set = X_train, y_train\n",
    "X1, X2 = np.meshgrid(np.arange(start = X_set[:, 0].min() - 1, stop = X_set[:, 0].max() + 1, step = 0.01),\n",
    "                     np.arange(start = X_set[:, 1].min() - 1, stop = X_set[:, 1].max() + 1, step = 0.01))\n",
    "plt.contourf(X1, X2, c_lr.predict(np.array([X1.ravel(), X2.ravel()]).T).reshape(X1.shape),\n",
    "             alpha = 0.75, cmap = ListedColormap(('red', 'green', 'blue')))\n",
    "plt.xlim(X1.min(), X1.max())\n",
    "plt.ylim(X2.min(), X2.max())\n",
    "for i, j in enumerate(np.unique(y_set)):\n",
    "    plt.scatter(X_set[y_set == j, 0], X_set[y_set == j, 1],\n",
    "                c = ListedColormap(('red', 'green', 'blue'))(i), label = j)\n",
    "plt.title('Logistic Regression (Training set)')\n",
    "plt.xlabel('PC1')\n",
    "plt.ylabel('PC2')\n",
    "plt.legend()\n",
    "plt.show()"
   ]
  },
  {
   "cell_type": "markdown",
   "id": "f3827ea6-82b6-43e5-9b95-0e271bd151cf",
   "metadata": {},
   "source": [
    "#### Test Set"
   ]
  },
  {
   "cell_type": "code",
   "execution_count": 34,
   "id": "fa48140b-26c8-437b-ac57-7a2aa17398b5",
   "metadata": {},
   "outputs": [
    {
     "name": "stderr",
     "output_type": "stream",
     "text": [
      "/var/folders/ls/5lqzwfjn3s76sfqks59rdzdm0000gn/T/ipykernel_96971/3704203269.py:10: UserWarning: *c* argument looks like a single numeric RGB or RGBA sequence, which should be avoided as value-mapping will have precedence in case its length matches with *x* & *y*.  Please use the *color* keyword-argument or provide a 2D array with a single row if you intend to specify the same RGB or RGBA value for all points.\n",
      "  plt.scatter(X_set[y_set == j, 0], X_set[y_set == j, 1],\n"
     ]
    },
    {
     "data": {
      "image/png": "[encoded data removed]",
      "text/plain": [
       "<Figure size 640x480 with 1 Axes>"
      ]
     },
     "metadata": {},
     "output_type": "display_data"
    }
   ],
   "source": [
    "# Logistic Regression Results\n",
    "X_set, y_set = pca.transform(sc.transform(X_test)), y_test\n",
    "X1, X2 = np.meshgrid(np.arange(start = X_set[:, 0].min() - 1, stop = X_set[:, 0].max() + 1, step = 0.01),\n",
    "                     np.arange(start = X_set[:, 1].min() - 1, stop = X_set[:, 1].max() + 1, step = 0.01))\n",
    "plt.contourf(X1, X2, c_lr.predict(np.array([X1.ravel(), X2.ravel()]).T).reshape(X1.shape),\n",
    "             alpha = 0.75, cmap = ListedColormap(('red', 'green', 'blue')))\n",
    "plt.xlim(X1.min(), X1.max())\n",
    "plt.ylim(X2.min(), X2.max())\n",
    "for i, j in enumerate(np.unique(y_set)):\n",
    "    plt.scatter(X_set[y_set == j, 0], X_set[y_set == j, 1],\n",
    "                c = ListedColormap(('red', 'green', 'blue'))(i), label = j)\n",
    "plt.title('Logistic Regression (Test set)')\n",
    "plt.xlabel('PC1')\n",
    "plt.ylabel('PC2')\n",
    "plt.legend()\n",
    "plt.show()"
   ]
  },
  {
   "cell_type": "markdown",
   "id": "72239355-5d6f-4012-a08c-400251c3c18e",
   "metadata": {},
   "source": [
    "## Linear Discriminant Analysis"
   ]
  },
  {
   "cell_type": "markdown",
   "id": "c4b09e30-1a77-418f-a216-3c62d5a120b4",
   "metadata": {},
   "source": [
    "### Data Prep"
   ]
  },
  {
   "cell_type": "markdown",
   "id": "d4063e41-3ad5-4e9e-b093-846869c4da16",
   "metadata": {
    "tags": []
   },
   "source": [
    "#### Read"
   ]
  },
  {
   "cell_type": "code",
   "execution_count": 110,
   "id": "c1f61d4c-3408-4500-b0ba-daa096a79d65",
   "metadata": {},
   "outputs": [
    {
     "data": {
      "text/html": [
       "<div>\n",
       "<style scoped>\n",
       "    .dataframe tbody tr th:only-of-type {\n",
       "        vertical-align: middle;\n",
       "    }\n",
       "\n",
       "    .dataframe tbody tr th {\n",
       "        vertical-align: top;\n",
       "    }\n",
       "\n",
       "    .dataframe thead th {\n",
       "        text-align: right;\n",
       "    }\n",
       "</style>\n",
       "<table border=\"1\" class=\"dataframe\">\n",
       "  <thead>\n",
       "    <tr style=\"text-align: right;\">\n",
       "      <th></th>\n",
       "      <th>Alcohol</th>\n",
       "      <th>Malic_Acid</th>\n",
       "      <th>Ash</th>\n",
       "      <th>Ash_Alcanity</th>\n",
       "      <th>Magnesium</th>\n",
       "      <th>Total_Phenols</th>\n",
       "      <th>Flavanoids</th>\n",
       "      <th>Nonflavanoid_Phenols</th>\n",
       "      <th>Proanthocyanins</th>\n",
       "      <th>Color_Intensity</th>\n",
       "      <th>Hue</th>\n",
       "      <th>OD280</th>\n",
       "      <th>Proline</th>\n",
       "      <th>Customer_Segment</th>\n",
       "    </tr>\n",
       "  </thead>\n",
       "  <tbody>\n",
       "    <tr>\n",
       "      <th>0</th>\n",
       "      <td>14.23</td>\n",
       "      <td>1.71</td>\n",
       "      <td>2.43</td>\n",
       "      <td>15.6</td>\n",
       "      <td>127</td>\n",
       "      <td>2.80</td>\n",
       "      <td>3.06</td>\n",
       "      <td>0.28</td>\n",
       "      <td>2.29</td>\n",
       "      <td>5.64</td>\n",
       "      <td>1.04</td>\n",
       "      <td>3.92</td>\n",
       "      <td>1065</td>\n",
       "      <td>1</td>\n",
       "    </tr>\n",
       "    <tr>\n",
       "      <th>1</th>\n",
       "      <td>13.20</td>\n",
       "      <td>1.78</td>\n",
       "      <td>2.14</td>\n",
       "      <td>11.2</td>\n",
       "      <td>100</td>\n",
       "      <td>2.65</td>\n",
       "      <td>2.76</td>\n",
       "      <td>0.26</td>\n",
       "      <td>1.28</td>\n",
       "      <td>4.38</td>\n",
       "      <td>1.05</td>\n",
       "      <td>3.40</td>\n",
       "      <td>1050</td>\n",
       "      <td>1</td>\n",
       "    </tr>\n",
       "  </tbody>\n",
       "</table>\n",
       "</div>"
      ],
      "text/plain": [
       "   Alcohol  Malic_Acid   Ash  Ash_Alcanity  Magnesium  Total_Phenols  \\\n",
       "0    14.23        1.71  2.43          15.6        127           2.80   \n",
       "1    13.20        1.78  2.14          11.2        100           2.65   \n",
       "\n",
       "   Flavanoids  Nonflavanoid_Phenols  Proanthocyanins  Color_Intensity   Hue  \\\n",
       "0        3.06                  0.28             2.29             5.64  1.04   \n",
       "1        2.76                  0.26             1.28             4.38  1.05   \n",
       "\n",
       "   OD280  Proline  Customer_Segment  \n",
       "0   3.92     1065                 1  \n",
       "1   3.40     1050                 1  "
      ]
     },
     "execution_count": 110,
     "metadata": {},
     "output_type": "execute_result"
    }
   ],
   "source": [
    "dataset = pd.read_csv('data/Wine.csv')\n",
    "dataset.head(2)"
   ]
  },
  {
   "cell_type": "code",
   "execution_count": 111,
   "id": "4240d96d-6313-497f-98bf-5318060ee621",
   "metadata": {},
   "outputs": [
    {
     "name": "stdout",
     "output_type": "stream",
     "text": [
      "<class 'numpy.ndarray'>\n",
      "(178, 13)\n",
      "<class 'numpy.ndarray'>\n",
      "(178,)\n"
     ]
    }
   ],
   "source": [
    "X = dataset.iloc[:, :-1].values   # Get all Rows and All but last column - independent variables\n",
    "y = dataset.iloc[:, -1].values    # Get all Rows and last column - dependent variable\n",
    "# print(\"X Values: \", X)\n",
    "print(type(X))\n",
    "print(X.shape)\n",
    "# print(\"y Values: \", y)\n",
    "print(type(y))\n",
    "print(y.shape)"
   ]
  },
  {
   "cell_type": "markdown",
   "id": "3f140420-5eb0-42e7-82dd-03a332e7b010",
   "metadata": {
    "tags": []
   },
   "source": [
    "### Train Test Split"
   ]
  },
  {
   "cell_type": "code",
   "execution_count": 112,
   "id": "44ff98b0-3d9c-4fc3-8794-346ff0a7e7ef",
   "metadata": {},
   "outputs": [],
   "source": [
    "from sklearn.model_selection import train_test_split\n",
    "X_train, X_test, y_train, y_test = train_test_split(X, y, test_size = 0.2, random_state = 0)"
   ]
  },
  {
   "cell_type": "markdown",
   "id": "85bd5e05-01f9-4025-8a8f-eeb948669ac9",
   "metadata": {
    "tags": []
   },
   "source": [
    "### Feature Scaling"
   ]
  },
  {
   "cell_type": "code",
   "execution_count": 113,
   "id": "80b4dc63-d2a9-4a09-a890-b53d8f6cfb3c",
   "metadata": {},
   "outputs": [],
   "source": [
    "from sklearn.preprocessing import StandardScaler"
   ]
  },
  {
   "cell_type": "code",
   "execution_count": 114,
   "id": "b534d91f-30e5-4a77-8eae-f133375c907b",
   "metadata": {},
   "outputs": [],
   "source": [
    "sc = StandardScaler()\n",
    "X_train = sc.fit_transform(X_train)"
   ]
  },
  {
   "cell_type": "markdown",
   "id": "4d55ef6b-049e-4a4e-8aea-5b7abcff9dc7",
   "metadata": {},
   "source": [
    "### Apply LDA"
   ]
  },
  {
   "cell_type": "code",
   "execution_count": 115,
   "id": "e2d96ac5-d8cd-41b5-a451-674a19ad0fb6",
   "metadata": {},
   "outputs": [],
   "source": [
    "from sklearn.discriminant_analysis import LinearDiscriminantAnalysis as LDA"
   ]
  },
  {
   "cell_type": "code",
   "execution_count": 116,
   "id": "b2033fe5-6b97-4435-ad18-98e15353481f",
   "metadata": {},
   "outputs": [],
   "source": [
    "# n_components is the final number of extracted features\n",
    "lda = LDA(n_components = 2)\n",
    "# LDA uses the dependent variable as well\n",
    "X_train = lda.fit_transform(X_train, y_train)"
   ]
  },
  {
   "cell_type": "markdown",
   "id": "2a585c3d-b6e6-479b-940f-5bbf6605aa84",
   "metadata": {},
   "source": [
    "### Train Model and Predict"
   ]
  },
  {
   "cell_type": "code",
   "execution_count": 117,
   "id": "6e5c181f-825d-4f4c-aa29-0820c536c37c",
   "metadata": {},
   "outputs": [],
   "source": [
    "# Logistic Regression\n",
    "from sklearn.linear_model import LogisticRegression\n",
    "c_lr = LogisticRegression(random_state = 0)\n",
    "c_lr.fit(X_train, y_train)\n",
    "y_pred_lr = c_lr.predict(lda.transform(sc.transform(X_test)))"
   ]
  },
  {
   "cell_type": "code",
   "execution_count": 72,
   "id": "4d803262-589d-456c-9c20-68051a9b7c94",
   "metadata": {},
   "outputs": [],
   "source": [
    "# SVM\n",
    "from sklearn.svm import SVC\n",
    "c_svc = SVC(kernel=\"rbf\", random_state=0)\n",
    "c_svc.fit(X_train,y_train)\n",
    "y_pred_svc = c_svc.predict(lda.transform(sc.transform(X_test)))"
   ]
  },
  {
   "cell_type": "code",
   "execution_count": 73,
   "id": "2b464bcb-119b-49dc-adf4-23ff09b3fa4d",
   "metadata": {},
   "outputs": [],
   "source": [
    "# Naive Bayes\n",
    "from sklearn.naive_bayes import GaussianNB\n",
    "c_gnb = GaussianNB()\n",
    "c_gnb.fit(X_train, y_train)\n",
    "y_pred_gnb = c_gnb.predict(lda.transform(sc.transform(X_test)))"
   ]
  },
  {
   "cell_type": "code",
   "execution_count": 74,
   "id": "60e5f5e5-18cf-45af-8afa-da654f49b653",
   "metadata": {},
   "outputs": [],
   "source": [
    "# Random Forest\n",
    "from sklearn.ensemble import RandomForestClassifier\n",
    "c_rf = RandomForestClassifier(n_estimators=10, random_state=0)\n",
    "c_rf.fit(X_train, y_train)\n",
    "y_pred_rf = c_rf.predict(lda.transform(sc.transform(X_test)))"
   ]
  },
  {
   "cell_type": "markdown",
   "id": "5514858d-94d6-40cf-98e0-ce58dbc280fd",
   "metadata": {},
   "source": [
    "### Confusion Matrix"
   ]
  },
  {
   "cell_type": "code",
   "execution_count": 75,
   "id": "49051ee9-7c5b-4ccf-8a54-d3ff8616f828",
   "metadata": {},
   "outputs": [],
   "source": [
    "from sklearn.metrics import confusion_matrix"
   ]
  },
  {
   "cell_type": "code",
   "execution_count": 76,
   "id": "025228ad-fdfb-410e-809b-c8d25e417e51",
   "metadata": {},
   "outputs": [
    {
     "name": "stdout",
     "output_type": "stream",
     "text": [
      "Confusion Matrix for Logistic Regression:  [[14  0  0]\n",
      " [ 0 16  0]\n",
      " [ 0  0  6]]\n",
      "Number of correct predictions using Logistic Regression:  36\n",
      "Number of incorrect predictions using Logistic Regression:  0\n"
     ]
    }
   ],
   "source": [
    "# Logistic Regression\n",
    "cm_lr = confusion_matrix(y_test, y_pred_lr)\n",
    "print(\"Confusion Matrix for Logistic Regression: \",cm_lr)\n",
    "print(\"Number of correct predictions using Logistic Regression: \",cm_lr[0][0] + cm_lr[1][1] + cm_lr[2][2])\n",
    "print(\"Number of incorrect predictions using Logistic Regression: \",cm_lr[0][1] + cm_lr[0][2] + cm_lr[1][0] + cm_lr[1][2] + cm_lr[2][0] + cm_lr[2][1])"
   ]
  },
  {
   "cell_type": "code",
   "execution_count": 77,
   "id": "14090486-5786-4a1f-8f8f-b888ade53bb2",
   "metadata": {},
   "outputs": [
    {
     "name": "stdout",
     "output_type": "stream",
     "text": [
      "Confusion Matrix for SVC:  [[14  0  0]\n",
      " [ 0 16  0]\n",
      " [ 0  0  6]]\n",
      "Number of correct predictions using SVC:  36\n",
      "Number of incorrect predictions using SVC:  0\n"
     ]
    }
   ],
   "source": [
    "# SVC\n",
    "cm_svc = confusion_matrix(y_test, y_pred_svc)\n",
    "print(\"Confusion Matrix for SVC: \",cm_svc)\n",
    "print(\"Number of correct predictions using SVC: \",cm_svc[0][0] + cm_svc[1][1] + cm_svc[2][2])\n",
    "print(\"Number of incorrect predictions using SVC: \",cm_svc[0][1] + cm_svc[0][2] + cm_svc[1][0] + cm_svc[1][2] + cm_svc[2][0] + cm_svc[2][1])"
   ]
  },
  {
   "cell_type": "code",
   "execution_count": 78,
   "id": "0e21aa3b-2c67-40c5-8fc7-60bcbb154108",
   "metadata": {},
   "outputs": [
    {
     "name": "stdout",
     "output_type": "stream",
     "text": [
      "Confusion Matrix for Naive Bayes:  [[14  0  0]\n",
      " [ 1 15  0]\n",
      " [ 0  0  6]]\n",
      "Number of correct predictions using Naive Bayes:  35\n",
      "Number of incorrect predictions using Naive Bayes:  1\n"
     ]
    }
   ],
   "source": [
    "# Naive Bayes\n",
    "cm_gnb = confusion_matrix(y_test, y_pred_gnb)\n",
    "print(\"Confusion Matrix for Naive Bayes: \",cm_gnb)\n",
    "print(\"Number of correct predictions using Naive Bayes: \",cm_gnb[0][0] + cm_gnb[1][1] + cm_gnb[2][2])\n",
    "print(\"Number of incorrect predictions using Naive Bayes: \",cm_gnb[0][1] + cm_gnb[0][2] + cm_gnb[1][0] + cm_gnb[1][2] + cm_gnb[2][0] + cm_gnb[2][1])"
   ]
  },
  {
   "cell_type": "code",
   "execution_count": 79,
   "id": "ae69a0f1-4c9c-4554-9d46-a48da1f08136",
   "metadata": {},
   "outputs": [
    {
     "name": "stdout",
     "output_type": "stream",
     "text": [
      "Confusion Matrix for Random Forest:  [[14  0  0]\n",
      " [ 0 16  0]\n",
      " [ 0  0  6]]\n",
      "Number of correct predictions using Random Forest:  36\n",
      "Number of incorrect predictions using Random Forest:  0\n"
     ]
    }
   ],
   "source": [
    "# Random Forest\n",
    "cm_rf = confusion_matrix(y_test, y_pred_rf)\n",
    "print(\"Confusion Matrix for Random Forest: \",cm_rf)\n",
    "print(\"Number of correct predictions using Random Forest: \",cm_rf[0][0] + cm_rf[1][1] + cm_rf[2][2])\n",
    "print(\"Number of incorrect predictions using Random Forest: \",cm_rf[0][1] + cm_rf[0][2] + cm_rf[1][0] + cm_rf[1][2] + cm_rf[2][0] + cm_rf[2][1])"
   ]
  },
  {
   "cell_type": "markdown",
   "id": "e61dd730-fc1f-458c-8b1d-1911854987f0",
   "metadata": {},
   "source": [
    "### Evaluate"
   ]
  },
  {
   "cell_type": "code",
   "execution_count": 24,
   "id": "1914bc21-cfc8-4443-9601-6d1d957c64ec",
   "metadata": {},
   "outputs": [],
   "source": [
    "from sklearn.metrics import accuracy_score"
   ]
  },
  {
   "cell_type": "code",
   "execution_count": 86,
   "id": "56fcffdf-09f3-4831-a1a8-f3e2db632c14",
   "metadata": {},
   "outputs": [
    {
     "name": "stdout",
     "output_type": "stream",
     "text": [
      "Accuracy for Logistic Regression:  1.0\n",
      "Accuracy for SVC:  1.0\n",
      "Accuracy for Naive Bayes:  0.9722222222222222\n",
      "Accuracy for Random Forest:  1.0\n"
     ]
    }
   ],
   "source": [
    "print(\"Accuracy for Logistic Regression: \",accuracy_score(y_test, y_pred_lr))\n",
    "print(\"Accuracy for SVC: \",accuracy_score(y_test, y_pred_svc))\n",
    "print(\"Accuracy for Naive Bayes: \",accuracy_score(y_test, y_pred_gnb))\n",
    "print(\"Accuracy for Random Forest: \",accuracy_score(y_test, y_pred_rf))"
   ]
  },
  {
   "cell_type": "markdown",
   "id": "01583cd6-709a-4027-8bf0-4b7b34381222",
   "metadata": {},
   "source": [
    "### Vizualize"
   ]
  },
  {
   "cell_type": "markdown",
   "id": "8bcc5276-df7a-4820-93f0-88c827172c3b",
   "metadata": {},
   "source": [
    "#### Training Set"
   ]
  },
  {
   "cell_type": "code",
   "execution_count": null,
   "id": "ea485eef-ce8c-42b3-9072-369a0bae7325",
   "metadata": {},
   "outputs": [],
   "source": [
    "from matplotlib.colors import ListedColormap"
   ]
  },
  {
   "cell_type": "code",
   "execution_count": 120,
   "id": "ec4d36ac-8eea-4c70-ba37-8f158b1c0b05",
   "metadata": {},
   "outputs": [
    {
     "name": "stderr",
     "output_type": "stream",
     "text": [
      "/var/folders/ls/5lqzwfjn3s76sfqks59rdzdm0000gn/T/ipykernel_96971/1419250132.py:10: UserWarning: *c* argument looks like a single numeric RGB or RGBA sequence, which should be avoided as value-mapping will have precedence in case its length matches with *x* & *y*.  Please use the *color* keyword-argument or provide a 2D array with a single row if you intend to specify the same RGB or RGBA value for all points.\n",
      "  plt.scatter(X_set[y_set == j, 0], X_set[y_set == j, 1],\n"
     ]
    },
    {
     "data": {
      "image/png": "[encoded data removed]",
      "text/plain": [
       "<Figure size 640x480 with 1 Axes>"
      ]
     },
     "metadata": {},
     "output_type": "display_data"
    }
   ],
   "source": [
    "from matplotlib.colors import ListedColormap\n",
    "X_set, y_set = X_train, y_train\n",
    "X1, X2 = np.meshgrid(np.arange(start = X_set[:, 0].min() - 1, stop = X_set[:, 0].max() + 1, step = 0.01),\n",
    "                     np.arange(start = X_set[:, 1].min() - 1, stop = X_set[:, 1].max() + 1, step = 0.01))\n",
    "plt.contourf(X1, X2, c_lr.predict(np.array([X1.ravel(), X2.ravel()]).T).reshape(X1.shape),\n",
    "             alpha = 0.75, cmap = ListedColormap(('red', 'green', 'blue')))\n",
    "plt.xlim(X1.min(), X1.max())\n",
    "plt.ylim(X2.min(), X2.max())\n",
    "for i, j in enumerate(np.unique(y_set)):\n",
    "    plt.scatter(X_set[y_set == j, 0], X_set[y_set == j, 1],\n",
    "                c = ListedColormap(('red', 'green', 'blue'))(i), label = j)\n",
    "plt.title('Logistic Regression (Training set)')\n",
    "plt.xlabel('LD1')\n",
    "plt.ylabel('LD2')\n",
    "plt.legend()\n",
    "plt.show()"
   ]
  },
  {
   "cell_type": "markdown",
   "id": "c0a2530b-2c83-4761-8165-087ee34a09dd",
   "metadata": {},
   "source": [
    "#### Test Set"
   ]
  },
  {
   "cell_type": "code",
   "execution_count": 118,
   "id": "b9abf504-a95a-4632-ab3c-b8680a4cc0e6",
   "metadata": {},
   "outputs": [
    {
     "name": "stderr",
     "output_type": "stream",
     "text": [
      "/var/folders/ls/5lqzwfjn3s76sfqks59rdzdm0000gn/T/ipykernel_96971/1110361934.py:10: UserWarning: *c* argument looks like a single numeric RGB or RGBA sequence, which should be avoided as value-mapping will have precedence in case its length matches with *x* & *y*.  Please use the *color* keyword-argument or provide a 2D array with a single row if you intend to specify the same RGB or RGBA value for all points.\n",
      "  plt.scatter(X_set[y_set == j, 0], X_set[y_set == j, 1],\n"
     ]
    },
    {
     "data": {
      "image/png": "[encoded data removed]",
      "text/plain": [
       "<Figure size 640x480 with 1 Axes>"
      ]
     },
     "metadata": {},
     "output_type": "display_data"
    }
   ],
   "source": [
    "# Logistic Regression Results\n",
    "X_set, y_set = lda.transform(sc.transform(X_test)), y_test\n",
    "X1, X2 = np.meshgrid(np.arange(start = X_set[:, 0].min() - 1, stop = X_set[:, 0].max() + 1, step = 0.01),\n",
    "                     np.arange(start = X_set[:, 1].min() - 1, stop = X_set[:, 1].max() + 1, step = 0.01))\n",
    "plt.contourf(X1, X2, c_lr.predict(np.array([X1.ravel(), X2.ravel()]).T).reshape(X1.shape),\n",
    "             alpha = 0.75, cmap = ListedColormap(('red', 'green', 'blue')))\n",
    "plt.xlim(X1.min(), X1.max())\n",
    "plt.ylim(X2.min(), X2.max())\n",
    "for i, j in enumerate(np.unique(y_set)):\n",
    "    plt.scatter(X_set[y_set == j, 0], X_set[y_set == j, 1],\n",
    "                c = ListedColormap(('red', 'green', 'blue'))(i), label = j)\n",
    "plt.title('Logistic Regression (Test set)')\n",
    "plt.xlabel('PC1')\n",
    "plt.ylabel('PC2')\n",
    "plt.legend()\n",
    "plt.show()"
   ]
  },
  {
   "cell_type": "markdown",
   "id": "b4f86221-5c48-4fd1-8788-acb90a93a6ac",
   "metadata": {},
   "source": [
    "## Kernel PCA"
   ]
  },
  {
   "cell_type": "markdown",
   "id": "8a7e2740-0098-4ecd-983f-8650d66e8cc9",
   "metadata": {},
   "source": [
    "### Data Prep"
   ]
  },
  {
   "cell_type": "markdown",
   "id": "c4546486-f7a8-44da-959c-c16b63df5020",
   "metadata": {
    "tags": []
   },
   "source": [
    "#### Read"
   ]
  },
  {
   "cell_type": "code",
   "execution_count": 89,
   "id": "6e84b00b-e558-4c3c-999d-41a49c24bf9e",
   "metadata": {},
   "outputs": [
    {
     "data": {
      "text/html": [
       "<div>\n",
       "<style scoped>\n",
       "    .dataframe tbody tr th:only-of-type {\n",
       "        vertical-align: middle;\n",
       "    }\n",
       "\n",
       "    .dataframe tbody tr th {\n",
       "        vertical-align: top;\n",
       "    }\n",
       "\n",
       "    .dataframe thead th {\n",
       "        text-align: right;\n",
       "    }\n",
       "</style>\n",
       "<table border=\"1\" class=\"dataframe\">\n",
       "  <thead>\n",
       "    <tr style=\"text-align: right;\">\n",
       "      <th></th>\n",
       "      <th>Alcohol</th>\n",
       "      <th>Malic_Acid</th>\n",
       "      <th>Ash</th>\n",
       "      <th>Ash_Alcanity</th>\n",
       "      <th>Magnesium</th>\n",
       "      <th>Total_Phenols</th>\n",
       "      <th>Flavanoids</th>\n",
       "      <th>Nonflavanoid_Phenols</th>\n",
       "      <th>Proanthocyanins</th>\n",
       "      <th>Color_Intensity</th>\n",
       "      <th>Hue</th>\n",
       "      <th>OD280</th>\n",
       "      <th>Proline</th>\n",
       "      <th>Customer_Segment</th>\n",
       "    </tr>\n",
       "  </thead>\n",
       "  <tbody>\n",
       "    <tr>\n",
       "      <th>0</th>\n",
       "      <td>14.23</td>\n",
       "      <td>1.71</td>\n",
       "      <td>2.43</td>\n",
       "      <td>15.6</td>\n",
       "      <td>127</td>\n",
       "      <td>2.80</td>\n",
       "      <td>3.06</td>\n",
       "      <td>0.28</td>\n",
       "      <td>2.29</td>\n",
       "      <td>5.64</td>\n",
       "      <td>1.04</td>\n",
       "      <td>3.92</td>\n",
       "      <td>1065</td>\n",
       "      <td>1</td>\n",
       "    </tr>\n",
       "    <tr>\n",
       "      <th>1</th>\n",
       "      <td>13.20</td>\n",
       "      <td>1.78</td>\n",
       "      <td>2.14</td>\n",
       "      <td>11.2</td>\n",
       "      <td>100</td>\n",
       "      <td>2.65</td>\n",
       "      <td>2.76</td>\n",
       "      <td>0.26</td>\n",
       "      <td>1.28</td>\n",
       "      <td>4.38</td>\n",
       "      <td>1.05</td>\n",
       "      <td>3.40</td>\n",
       "      <td>1050</td>\n",
       "      <td>1</td>\n",
       "    </tr>\n",
       "  </tbody>\n",
       "</table>\n",
       "</div>"
      ],
      "text/plain": [
       "   Alcohol  Malic_Acid   Ash  Ash_Alcanity  Magnesium  Total_Phenols  \\\n",
       "0    14.23        1.71  2.43          15.6        127           2.80   \n",
       "1    13.20        1.78  2.14          11.2        100           2.65   \n",
       "\n",
       "   Flavanoids  Nonflavanoid_Phenols  Proanthocyanins  Color_Intensity   Hue  \\\n",
       "0        3.06                  0.28             2.29             5.64  1.04   \n",
       "1        2.76                  0.26             1.28             4.38  1.05   \n",
       "\n",
       "   OD280  Proline  Customer_Segment  \n",
       "0   3.92     1065                 1  \n",
       "1   3.40     1050                 1  "
      ]
     },
     "execution_count": 89,
     "metadata": {},
     "output_type": "execute_result"
    }
   ],
   "source": [
    "dataset = pd.read_csv('data/Wine.csv')\n",
    "dataset.head(2)"
   ]
  },
  {
   "cell_type": "code",
   "execution_count": 90,
   "id": "02cdf71b-64de-4c07-b73e-04b364698aa4",
   "metadata": {},
   "outputs": [
    {
     "name": "stdout",
     "output_type": "stream",
     "text": [
      "<class 'numpy.ndarray'>\n",
      "(178, 13)\n",
      "<class 'numpy.ndarray'>\n",
      "(178,)\n"
     ]
    }
   ],
   "source": [
    "X = dataset.iloc[:, :-1].values   # Get all Rows and All but last column - independent variables\n",
    "y = dataset.iloc[:, -1].values    # Get all Rows and last column - dependent variable\n",
    "# print(\"X Values: \", X)\n",
    "print(type(X))\n",
    "print(X.shape)\n",
    "# print(\"y Values: \", y)\n",
    "print(type(y))\n",
    "print(y.shape)"
   ]
  },
  {
   "cell_type": "markdown",
   "id": "1890ac9a-56c9-46c5-b483-9e40b546fbca",
   "metadata": {
    "tags": []
   },
   "source": [
    "### Train Test Split"
   ]
  },
  {
   "cell_type": "code",
   "execution_count": 91,
   "id": "1fda7c54-1047-48d6-83ea-258a813198d2",
   "metadata": {},
   "outputs": [],
   "source": [
    "from sklearn.model_selection import train_test_split\n",
    "X_train, X_test, y_train, y_test = train_test_split(X, y, test_size = 0.2, random_state = 0)"
   ]
  },
  {
   "cell_type": "markdown",
   "id": "10441f4a-7527-420d-abe8-7e663dfaf9bf",
   "metadata": {
    "tags": []
   },
   "source": [
    "### Feature Scaling"
   ]
  },
  {
   "cell_type": "code",
   "execution_count": 92,
   "id": "ea98870e-4e87-42cd-9513-e904d4e4d86e",
   "metadata": {},
   "outputs": [],
   "source": [
    "from sklearn.preprocessing import StandardScaler"
   ]
  },
  {
   "cell_type": "code",
   "execution_count": 93,
   "id": "872feef1-5bbd-4af1-bdaa-213312c6826f",
   "metadata": {},
   "outputs": [],
   "source": [
    "sc = StandardScaler()\n",
    "X_train = sc.fit_transform(X_train)"
   ]
  },
  {
   "cell_type": "markdown",
   "id": "aa23e682-76b9-4a4f-a404-62c303a0fb78",
   "metadata": {},
   "source": [
    "### Apply Kernel PCA"
   ]
  },
  {
   "cell_type": "code",
   "execution_count": 94,
   "id": "584aeba2-c9c7-4a33-81c0-0b9075da8c53",
   "metadata": {},
   "outputs": [],
   "source": [
    "from sklearn.decomposition import KernelPCA"
   ]
  },
  {
   "cell_type": "code",
   "execution_count": 95,
   "id": "a3a3ba3d-72a7-470d-91d9-042f5ba46145",
   "metadata": {},
   "outputs": [],
   "source": [
    "# n_components is the final number of extracted features\n",
    "# start with 2, increase if the prediction is not good enough\n",
    "kpca = KernelPCA(n_components = 2, kernel = 'rbf')\n",
    "X_train = kpca.fit_transform(X_train)"
   ]
  },
  {
   "cell_type": "markdown",
   "id": "418e776f-c54e-47b4-9f16-07d693535df7",
   "metadata": {},
   "source": [
    "### Train Model and Predict"
   ]
  },
  {
   "cell_type": "code",
   "execution_count": 96,
   "id": "8d6244fd-33a2-418c-8751-b6d1ec085063",
   "metadata": {},
   "outputs": [],
   "source": [
    "# Logistic Regression\n",
    "from sklearn.linear_model import LogisticRegression\n",
    "c_lr = LogisticRegression(random_state = 0)\n",
    "c_lr.fit(X_train, y_train)\n",
    "y_pred_lr = c_lr.predict(kpca.transform(sc.transform(X_test)))"
   ]
  },
  {
   "cell_type": "code",
   "execution_count": 97,
   "id": "8b0f147d-9bac-43dd-a125-d69132107964",
   "metadata": {},
   "outputs": [],
   "source": [
    "# SVM\n",
    "from sklearn.svm import SVC\n",
    "c_svc = SVC(kernel=\"rbf\", random_state=0)\n",
    "c_svc.fit(X_train,y_train)\n",
    "y_pred_svc = c_svc.predict(kpca.transform(sc.transform(X_test)))"
   ]
  },
  {
   "cell_type": "code",
   "execution_count": 98,
   "id": "1caaf4cc-f634-4ba6-881e-3c8b1ee9dea0",
   "metadata": {},
   "outputs": [],
   "source": [
    "# Naive Bayes\n",
    "from sklearn.naive_bayes import GaussianNB\n",
    "c_gnb = GaussianNB()\n",
    "c_gnb.fit(X_train, y_train)\n",
    "y_pred_gnb = c_gnb.predict(kpca.transform(sc.transform(X_test)))"
   ]
  },
  {
   "cell_type": "code",
   "execution_count": 99,
   "id": "5efdf0ab-2d06-4deb-8dbb-1b3e4eb4eb15",
   "metadata": {},
   "outputs": [],
   "source": [
    "# Random Forest\n",
    "from sklearn.ensemble import RandomForestClassifier\n",
    "c_rf = RandomForestClassifier(n_estimators=10, random_state=0)\n",
    "c_rf.fit(X_train, y_train)\n",
    "y_pred_rf = c_rf.predict(kpca.transform(sc.transform(X_test)))"
   ]
  },
  {
   "cell_type": "markdown",
   "id": "dac94519-0b76-4cd7-83e0-203c966415c3",
   "metadata": {},
   "source": [
    "### Confusion Matrix"
   ]
  },
  {
   "cell_type": "code",
   "execution_count": 100,
   "id": "a77838bb-12d5-4476-aa3a-589ac90f86b6",
   "metadata": {},
   "outputs": [],
   "source": [
    "from sklearn.metrics import confusion_matrix"
   ]
  },
  {
   "cell_type": "code",
   "execution_count": 101,
   "id": "53575d3c-e154-4f0f-b821-eae8be267ae8",
   "metadata": {},
   "outputs": [
    {
     "name": "stdout",
     "output_type": "stream",
     "text": [
      "Confusion Matrix for Logistic Regression:  [[14  0  0]\n",
      " [ 0 16  0]\n",
      " [ 0  0  6]]\n",
      "Number of correct predictions using Logistic Regression:  36\n",
      "Number of incorrect predictions using Logistic Regression:  0\n"
     ]
    }
   ],
   "source": [
    "# Logistic Regression\n",
    "cm_lr = confusion_matrix(y_test, y_pred_lr)\n",
    "print(\"Confusion Matrix for Logistic Regression: \",cm_lr)\n",
    "print(\"Number of correct predictions using Logistic Regression: \",cm_lr[0][0] + cm_lr[1][1] + cm_lr[2][2])\n",
    "print(\"Number of incorrect predictions using Logistic Regression: \",cm_lr[0][1] + cm_lr[0][2] + cm_lr[1][0] + cm_lr[1][2] + cm_lr[2][0] + cm_lr[2][1])"
   ]
  },
  {
   "cell_type": "code",
   "execution_count": 102,
   "id": "2b7facb3-a719-4513-873d-13f7c29d143f",
   "metadata": {},
   "outputs": [
    {
     "name": "stdout",
     "output_type": "stream",
     "text": [
      "Confusion Matrix for SVC:  [[14  0  0]\n",
      " [ 0 16  0]\n",
      " [ 0  0  6]]\n",
      "Number of correct predictions using SVC:  36\n",
      "Number of incorrect predictions using SVC:  0\n"
     ]
    }
   ],
   "source": [
    "# SVC\n",
    "cm_svc = confusion_matrix(y_test, y_pred_svc)\n",
    "print(\"Confusion Matrix for SVC: \",cm_svc)\n",
    "print(\"Number of correct predictions using SVC: \",cm_svc[0][0] + cm_svc[1][1] + cm_svc[2][2])\n",
    "print(\"Number of incorrect predictions using SVC: \",cm_svc[0][1] + cm_svc[0][2] + cm_svc[1][0] + cm_svc[1][2] + cm_svc[2][0] + cm_svc[2][1])"
   ]
  },
  {
   "cell_type": "code",
   "execution_count": 103,
   "id": "0ed108df-a573-4027-b7d1-7348568cef88",
   "metadata": {},
   "outputs": [
    {
     "name": "stdout",
     "output_type": "stream",
     "text": [
      "Confusion Matrix for Naive Bayes:  [[14  0  0]\n",
      " [ 0 16  0]\n",
      " [ 0  0  6]]\n",
      "Number of correct predictions using Naive Bayes:  36\n",
      "Number of incorrect predictions using Naive Bayes:  0\n"
     ]
    }
   ],
   "source": [
    "# Naive Bayes\n",
    "cm_gnb = confusion_matrix(y_test, y_pred_gnb)\n",
    "print(\"Confusion Matrix for Naive Bayes: \",cm_gnb)\n",
    "print(\"Number of correct predictions using Naive Bayes: \",cm_gnb[0][0] + cm_gnb[1][1] + cm_gnb[2][2])\n",
    "print(\"Number of incorrect predictions using Naive Bayes: \",cm_gnb[0][1] + cm_gnb[0][2] + cm_gnb[1][0] + cm_gnb[1][2] + cm_gnb[2][0] + cm_gnb[2][1])"
   ]
  },
  {
   "cell_type": "code",
   "execution_count": 104,
   "id": "0ce4d308-8f3e-4037-aaf3-425cc9d7c3eb",
   "metadata": {},
   "outputs": [
    {
     "name": "stdout",
     "output_type": "stream",
     "text": [
      "Confusion Matrix for Random Forest:  [[14  0  0]\n",
      " [ 0 16  0]\n",
      " [ 0  0  6]]\n",
      "Number of correct predictions using Random Forest:  36\n",
      "Number of incorrect predictions using Random Forest:  0\n"
     ]
    }
   ],
   "source": [
    "# Random Forest\n",
    "cm_rf = confusion_matrix(y_test, y_pred_rf)\n",
    "print(\"Confusion Matrix for Random Forest: \",cm_rf)\n",
    "print(\"Number of correct predictions using Random Forest: \",cm_rf[0][0] + cm_rf[1][1] + cm_rf[2][2])\n",
    "print(\"Number of incorrect predictions using Random Forest: \",cm_rf[0][1] + cm_rf[0][2] + cm_rf[1][0] + cm_rf[1][2] + cm_rf[2][0] + cm_rf[2][1])"
   ]
  },
  {
   "cell_type": "markdown",
   "id": "95182a72-e38b-4f1b-a1f7-66bdef953521",
   "metadata": {},
   "source": [
    "### Evaluate"
   ]
  },
  {
   "cell_type": "code",
   "execution_count": 105,
   "id": "a282955c-fdd1-4768-a8a9-1bb66a3894fd",
   "metadata": {},
   "outputs": [],
   "source": [
    "from sklearn.metrics import accuracy_score"
   ]
  },
  {
   "cell_type": "code",
   "execution_count": 106,
   "id": "99dd9309-f5e1-41eb-abfe-55facb6eb307",
   "metadata": {},
   "outputs": [
    {
     "name": "stdout",
     "output_type": "stream",
     "text": [
      "Accuracy for Logistic Regression:  1.0\n",
      "Accuracy for Logistic Regression with 3 components:  1.0\n",
      "Accuracy for SVC:  1.0\n",
      "Accuracy for Naive Bayes:  1.0\n",
      "Accuracy for Random Forest:  1.0\n"
     ]
    }
   ],
   "source": [
    "print(\"Accuracy for Logistic Regression: \",accuracy_score(y_test, y_pred_lr))\n",
    "print(\"Accuracy for Logistic Regression with 3 components: \",accuracy_score(y_test, y_pred_lr_pca3))\n",
    "print(\"Accuracy for SVC: \",accuracy_score(y_test, y_pred_svc))\n",
    "print(\"Accuracy for Naive Bayes: \",accuracy_score(y_test, y_pred_gnb))\n",
    "print(\"Accuracy for Random Forest: \",accuracy_score(y_test, y_pred_rf))"
   ]
  },
  {
   "cell_type": "markdown",
   "id": "670dec8c-9030-49e9-93a1-6e139b91a7e0",
   "metadata": {},
   "source": [
    "### Vizualize"
   ]
  },
  {
   "cell_type": "markdown",
   "id": "e03d40d9-6061-43c1-9f3f-22d10d526ea9",
   "metadata": {},
   "source": [
    "#### Training Set"
   ]
  },
  {
   "cell_type": "code",
   "execution_count": null,
   "id": "e15fd0d9-778f-4a42-9b10-7c7eea54e660",
   "metadata": {},
   "outputs": [],
   "source": [
    "from matplotlib.colors import ListedColormap"
   ]
  },
  {
   "cell_type": "code",
   "execution_count": 107,
   "id": "9553a5c6-c3ba-4734-8784-00e0aaf98301",
   "metadata": {},
   "outputs": [
    {
     "name": "stderr",
     "output_type": "stream",
     "text": [
      "/var/folders/ls/5lqzwfjn3s76sfqks59rdzdm0000gn/T/ipykernel_96971/2123219577.py:10: UserWarning: *c* argument looks like a single numeric RGB or RGBA sequence, which should be avoided as value-mapping will have precedence in case its length matches with *x* & *y*.  Please use the *color* keyword-argument or provide a 2D array with a single row if you intend to specify the same RGB or RGBA value for all points.\n",
      "  plt.scatter(X_set[y_set == j, 0], X_set[y_set == j, 1],\n"
     ]
    },
    {
     "data": {
      "image/png": "[encoded data removed]",
      "text/plain": [
       "<Figure size 640x480 with 1 Axes>"
      ]
     },
     "metadata": {},
     "output_type": "display_data"
    }
   ],
   "source": [
    "# Logistic Regression Results\n",
    "X_set, y_set = X_train, y_train\n",
    "X1, X2 = np.meshgrid(np.arange(start = X_set[:, 0].min() - 1, stop = X_set[:, 0].max() + 1, step = 0.01),\n",
    "                     np.arange(start = X_set[:, 1].min() - 1, stop = X_set[:, 1].max() + 1, step = 0.01))\n",
    "plt.contourf(X1, X2, c_lr.predict(np.array([X1.ravel(), X2.ravel()]).T).reshape(X1.shape),\n",
    "             alpha = 0.75, cmap = ListedColormap(('red', 'green', 'blue')))\n",
    "plt.xlim(X1.min(), X1.max())\n",
    "plt.ylim(X2.min(), X2.max())\n",
    "for i, j in enumerate(np.unique(y_set)):\n",
    "    plt.scatter(X_set[y_set == j, 0], X_set[y_set == j, 1],\n",
    "                c = ListedColormap(('red', 'green', 'blue'))(i), label = j)\n",
    "plt.title('Logistic Regression (Training set)')\n",
    "plt.xlabel('PC1')\n",
    "plt.ylabel('PC2')\n",
    "plt.legend()\n",
    "plt.show()"
   ]
  },
  {
   "cell_type": "code",
   "execution_count": 109,
   "id": "ce4212f5-c4ed-4006-a5ad-c0aceced2047",
   "metadata": {},
   "outputs": [
    {
     "name": "stderr",
     "output_type": "stream",
     "text": [
      "/var/folders/ls/5lqzwfjn3s76sfqks59rdzdm0000gn/T/ipykernel_96971/1507198890.py:10: UserWarning: *c* argument looks like a single numeric RGB or RGBA sequence, which should be avoided as value-mapping will have precedence in case its length matches with *x* & *y*.  Please use the *color* keyword-argument or provide a 2D array with a single row if you intend to specify the same RGB or RGBA value for all points.\n",
      "  plt.scatter(X_set[y_set == j, 0], X_set[y_set == j, 1],\n"
     ]
    },
    {
     "data": {
      "image/png": "[encoded data removed]",
      "text/plain": [
       "<Figure size 640x480 with 1 Axes>"
      ]
     },
     "metadata": {},
     "output_type": "display_data"
    }
   ],
   "source": [
    "# Logistic Regression Results\n",
    "X_set, y_set = kpca.transform(sc.transform(X_test)), y_test\n",
    "X1, X2 = np.meshgrid(np.arange(start = X_set[:, 0].min() - 1, stop = X_set[:, 0].max() + 1, step = 0.01),\n",
    "                     np.arange(start = X_set[:, 1].min() - 1, stop = X_set[:, 1].max() + 1, step = 0.01))\n",
    "plt.contourf(X1, X2, c_lr.predict(np.array([X1.ravel(), X2.ravel()]).T).reshape(X1.shape),\n",
    "             alpha = 0.75, cmap = ListedColormap(('red', 'green', 'blue')))\n",
    "plt.xlim(X1.min(), X1.max())\n",
    "plt.ylim(X2.min(), X2.max())\n",
    "for i, j in enumerate(np.unique(y_set)):\n",
    "    plt.scatter(X_set[y_set == j, 0], X_set[y_set == j, 1],\n",
    "                c = ListedColormap(('red', 'green', 'blue'))(i), label = j)\n",
    "plt.title('Logistic Regression (Test set)')\n",
    "plt.xlabel('PC1')\n",
    "plt.ylabel('PC2')\n",
    "plt.legend()\n",
    "plt.show()"
   ]
  }
 ],
 "metadata": {
  "kernelspec": {
   "display_name": "Python 3 (ipykernel)",
   "language": "python",
   "name": "python3"
  },
  "language_info": {
   "codemirror_mode": {
    "name": "ipython",
    "version": 3
   },
   "file_extension": ".py",
   "mimetype": "text/x-python",
   "name": "python",
   "nbconvert_exporter": "python",
   "pygments_lexer": "ipython3",
   "version": "3.9.0"
  }
 },
 "nbformat": 4,
 "nbformat_minor": 5
}
