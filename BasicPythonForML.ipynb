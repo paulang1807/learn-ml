{
 "cells": [
  {
   "cell_type": "markdown",
   "metadata": {},
   "source": [
    "## Generating Data"
   ]
  },
  {
   "cell_type": "code",
   "execution_count": 1,
   "metadata": {},
   "outputs": [],
   "source": [
    "import numpy as np\n",
    "import matplotlib.pyplot as plt"
   ]
  },
  {
   "cell_type": "code",
   "execution_count": 2,
   "metadata": {},
   "outputs": [],
   "source": [
    "# Set randomizer seed to get consistent results each time\n",
    "np.random.seed(13)"
   ]
  },
  {
   "cell_type": "code",
   "execution_count": 7,
   "metadata": {},
   "outputs": [
    {
     "name": "stdout",
     "output_type": "stream",
     "text": [
      "[0.         0.05263158 0.10526316 0.15789474 0.21052632 0.26315789\n",
      " 0.31578947 0.36842105 0.42105263 0.47368421 0.52631579 0.57894737\n",
      " 0.63157895 0.68421053 0.73684211 0.78947368 0.84210526 0.89473684\n",
      " 0.94736842 1.        ]\n",
      "<class 'numpy.ndarray'>\n",
      "(20,)\n"
     ]
    }
   ],
   "source": [
    "# Generate evenly spaced data for a range\n",
    "n_samples = 20\n",
    "range_state = 0\n",
    "range_end = 1\n",
    "\n",
    "X = np.linspace(range_state, range_end, n_samples)\n",
    "\n",
    "print(X)\n",
    "print(type(X))\n",
    "print(X.shape)"
   ]
  },
  {
   "cell_type": "code",
   "execution_count": 4,
   "metadata": {},
   "outputs": [
    {
     "data": {
      "text/plain": [
       "array([-0.71239066,  0.75376638, -0.04450308,  0.45181234,  1.34510171,\n",
       "        0.53233789,  1.3501879 ,  0.86121137,  1.47868574, -1.04537713,\n",
       "       -0.78898902, -1.26160595,  0.56284679, -0.24332625,  0.9137407 ,\n",
       "        0.31735092,  0.12730328,  2.15038297,  0.60628866, -0.02677165])"
      ]
     },
     "execution_count": 4,
     "metadata": {},
     "output_type": "execute_result"
    }
   ],
   "source": [
    "# Generate array of random numbers\n",
    "np.random.randn(n_samples)"
   ]
  },
  {
   "cell_type": "code",
   "execution_count": 8,
   "metadata": {},
   "outputs": [
    {
     "name": "stdout",
     "output_type": "stream",
     "text": [
      "[[0.        ]\n",
      " [0.05263158]\n",
      " [0.10526316]\n",
      " [0.15789474]\n",
      " [0.21052632]\n",
      " [0.26315789]\n",
      " [0.31578947]\n",
      " [0.36842105]\n",
      " [0.42105263]\n",
      " [0.47368421]\n",
      " [0.52631579]\n",
      " [0.57894737]\n",
      " [0.63157895]\n",
      " [0.68421053]\n",
      " [0.73684211]\n",
      " [0.78947368]\n",
      " [0.84210526]\n",
      " [0.89473684]\n",
      " [0.94736842]\n",
      " [1.        ]]\n"
     ]
    }
   ],
   "source": [
    "# Convert array into a vector (ML classes in sklearn expect input feature vectors)\n",
    "# We can do this by transposing the array\n",
    "X = X[:, np.newaxis]\n",
    "# X = np.transpose([X]) # This gives the same result as above. Make sure the array ([X], not just the values are passed as parameter)\n",
    "print (X)"
   ]
  },
  {
   "cell_type": "markdown",
   "metadata": {},
   "source": [
    "## Pre-processing\n",
    "http://scikit-learn.org/stable/modules/generated/sklearn.preprocessing.PolynomialFeatures.html"
   ]
  },
  {
   "cell_type": "code",
   "execution_count": 9,
   "metadata": {},
   "outputs": [],
   "source": [
    "from sklearn.preprocessing import PolynomialFeatures"
   ]
  },
  {
   "cell_type": "code",
   "execution_count": 11,
   "metadata": {},
   "outputs": [
    {
     "name": "stdout",
     "output_type": "stream",
     "text": [
      "[[0.00000000e+00 0.00000000e+00 0.00000000e+00]\n",
      " [5.26315789e-02 2.77008310e-03 1.45793847e-04]\n",
      " [1.05263158e-01 1.10803324e-02 1.16635078e-03]\n",
      " [1.57894737e-01 2.49307479e-02 3.93643388e-03]\n",
      " [2.10526316e-01 4.43213296e-02 9.33080624e-03]\n",
      " [2.63157895e-01 6.92520776e-02 1.82242309e-02]\n",
      " [3.15789474e-01 9.97229917e-02 3.14914711e-02]\n",
      " [3.68421053e-01 1.35734072e-01 5.00072897e-02]\n",
      " [4.21052632e-01 1.77285319e-01 7.46464499e-02]\n",
      " [4.73684211e-01 2.24376731e-01 1.06283715e-01]\n",
      " [5.26315789e-01 2.77008310e-01 1.45793847e-01]\n",
      " [5.78947368e-01 3.35180055e-01 1.94051611e-01]\n",
      " [6.31578947e-01 3.98891967e-01 2.51931768e-01]\n",
      " [6.84210526e-01 4.68144044e-01 3.20309083e-01]\n",
      " [7.36842105e-01 5.42936288e-01 4.00058318e-01]\n",
      " [7.89473684e-01 6.23268698e-01 4.92054235e-01]\n",
      " [8.42105263e-01 7.09141274e-01 5.97171599e-01]\n",
      " [8.94736842e-01 8.00554017e-01 7.16285173e-01]\n",
      " [9.47368421e-01 8.97506925e-01 8.50269719e-01]\n",
      " [1.00000000e+00 1.00000000e+00 1.00000000e+00]]\n"
     ]
    }
   ],
   "source": [
    "# Add polynomial transformations of feature\n",
    "num_features = 3\n",
    "pf = PolynomialFeatures(degree=num_features, include_bias=False)\n",
    "X2 = pf.fit_transform(X)\n",
    "print (X2)"
   ]
  },
  {
   "cell_type": "markdown",
   "metadata": {},
   "source": [
    "## Pipelines\n",
    "https://scikit-learn.org/stable/modules/compose.html#combining-estimators"
   ]
  },
  {
   "cell_type": "code",
   "execution_count": 12,
   "metadata": {},
   "outputs": [],
   "source": [
    "from sklearn.linear_model import LinearRegression\n",
    "from sklearn.pipeline import Pipeline"
   ]
  },
  {
   "cell_type": "code",
   "execution_count": null,
   "metadata": {},
   "outputs": [],
   "source": [
    "# Combine multiple operations using pipeline\n",
    "polynomial_features = PolynomialFeatures(degree=2, include_bias=False)\n",
    "linear_regression = LinearRegression()\n",
    "\n",
    "pipeline = Pipeline([(\"polynomial_features\", polynomial_features),\n",
    "                     (\"linear_regression\", linear_regression)])"
   ]
  }
 ],
 "metadata": {
  "kernelspec": {
   "display_name": "Python 3",
   "language": "python",
   "name": "python3"
  },
  "language_info": {
   "codemirror_mode": {
    "name": "ipython",
    "version": 3
   },
   "file_extension": ".py",
   "mimetype": "text/x-python",
   "name": "python",
   "nbconvert_exporter": "python",
   "pygments_lexer": "ipython3",
   "version": "3.8.5"
  }
 },
 "nbformat": 4,
 "nbformat_minor": 4
}
