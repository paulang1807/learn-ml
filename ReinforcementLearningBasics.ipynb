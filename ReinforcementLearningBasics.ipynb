{
 "cells": [
  {
   "cell_type": "code",
   "execution_count": 1,
   "id": "cc8ee1c2-39ab-4181-9c36-6f24a2e9279f",
   "metadata": {},
   "outputs": [],
   "source": [
    "import numpy as np\n",
    "import matplotlib.pyplot as plt\n",
    "import pandas as pd"
   ]
  },
  {
   "cell_type": "markdown",
   "id": "c7b83bab-2be9-417d-98fa-9fac9e3922ac",
   "metadata": {},
   "source": [
    "## Upper Confidence Bound"
   ]
  },
  {
   "cell_type": "markdown",
   "id": "cd334ed9-ceaa-4f73-a9a2-ef23b041ee4c",
   "metadata": {},
   "source": [
    "### Data Prep"
   ]
  },
  {
   "cell_type": "markdown",
   "id": "6b929d09-d5fd-49dc-935e-94e6a02753a1",
   "metadata": {
    "tags": []
   },
   "source": [
    "#### Read"
   ]
  },
  {
   "cell_type": "code",
   "execution_count": 88,
   "id": "1e700a36-111c-4779-8ecc-732a4f00d768",
   "metadata": {},
   "outputs": [
    {
     "data": {
      "text/html": [
       "<div>\n",
       "<style scoped>\n",
       "    .dataframe tbody tr th:only-of-type {\n",
       "        vertical-align: middle;\n",
       "    }\n",
       "\n",
       "    .dataframe tbody tr th {\n",
       "        vertical-align: top;\n",
       "    }\n",
       "\n",
       "    .dataframe thead th {\n",
       "        text-align: right;\n",
       "    }\n",
       "</style>\n",
       "<table border=\"1\" class=\"dataframe\">\n",
       "  <thead>\n",
       "    <tr style=\"text-align: right;\">\n",
       "      <th></th>\n",
       "      <th>Ad 1</th>\n",
       "      <th>Ad 2</th>\n",
       "      <th>Ad 3</th>\n",
       "      <th>Ad 4</th>\n",
       "      <th>Ad 5</th>\n",
       "      <th>Ad 6</th>\n",
       "      <th>Ad 7</th>\n",
       "      <th>Ad 8</th>\n",
       "      <th>Ad 9</th>\n",
       "      <th>Ad 10</th>\n",
       "    </tr>\n",
       "  </thead>\n",
       "  <tbody>\n",
       "    <tr>\n",
       "      <th>0</th>\n",
       "      <td>1</td>\n",
       "      <td>0</td>\n",
       "      <td>0</td>\n",
       "      <td>0</td>\n",
       "      <td>1</td>\n",
       "      <td>0</td>\n",
       "      <td>0</td>\n",
       "      <td>0</td>\n",
       "      <td>1</td>\n",
       "      <td>0</td>\n",
       "    </tr>\n",
       "    <tr>\n",
       "      <th>1</th>\n",
       "      <td>0</td>\n",
       "      <td>0</td>\n",
       "      <td>0</td>\n",
       "      <td>0</td>\n",
       "      <td>0</td>\n",
       "      <td>0</td>\n",
       "      <td>0</td>\n",
       "      <td>0</td>\n",
       "      <td>1</td>\n",
       "      <td>0</td>\n",
       "    </tr>\n",
       "  </tbody>\n",
       "</table>\n",
       "</div>"
      ],
      "text/plain": [
       "   Ad 1  Ad 2  Ad 3  Ad 4  Ad 5  Ad 6  Ad 7  Ad 8  Ad 9  Ad 10\n",
       "0     1     0     0     0     1     0     0     0     1      0\n",
       "1     0     0     0     0     0     0     0     0     1      0"
      ]
     },
     "execution_count": 88,
     "metadata": {},
     "output_type": "execute_result"
    }
   ],
   "source": [
    "dataset = pd.read_csv('data/ReinforcementData1.csv')\n",
    "dataset.head(2)"
   ]
  },
  {
   "cell_type": "code",
   "execution_count": 89,
   "id": "f3a8a041-443b-4e96-a7dc-f8fe117dd5df",
   "metadata": {},
   "outputs": [
    {
     "data": {
      "text/plain": [
       "(10000, 10)"
      ]
     },
     "execution_count": 89,
     "metadata": {},
     "output_type": "execute_result"
    }
   ],
   "source": [
    "dataset.shape"
   ]
  },
  {
   "cell_type": "markdown",
   "id": "4668377a-2405-4ea9-ac82-c4c6a07a70fe",
   "metadata": {},
   "source": [
    "### Implement UCB"
   ]
  },
  {
   "cell_type": "code",
   "execution_count": 160,
   "id": "5867c335-27f8-4b16-a300-179629d62bd0",
   "metadata": {},
   "outputs": [],
   "source": [
    "import math\n",
    "\n",
    "N = 5000   # Number of rounds for which to run the test (rows in the dataset)\n",
    "d = 10      # Total number of options (columns in the dataset)\n",
    "ads_selected = []\n",
    "numbers_of_selections = [0] * d   # List of 10 0s, N_i(n)\n",
    "sums_of_rewards = [0] * d         # List of 10 0s, R_i(n)\n",
    "# total_reward = 0"
   ]
  },
  {
   "cell_type": "code",
   "execution_count": 161,
   "id": "55cb2a4d-18b6-44a2-a7b4-7c094d405d56",
   "metadata": {},
   "outputs": [
    {
     "data": {
      "text/plain": [
       "([0, 0, 0, 0, 0, 0, 0, 0, 0, 0], [0, 0, 0, 0, 0, 0, 0, 0, 0, 0])"
      ]
     },
     "execution_count": 161,
     "metadata": {},
     "output_type": "execute_result"
    }
   ],
   "source": [
    "numbers_of_selections, sums_of_rewards"
   ]
  },
  {
   "cell_type": "code",
   "execution_count": 162,
   "id": "2c80d5da-0a72-43c2-9461-c3419aa95700",
   "metadata": {
    "tags": []
   },
   "outputs": [],
   "source": [
    "for n in range(0, N):\n",
    "    ad = 0\n",
    "    max_upper_bound = 0\n",
    "    average_reward = 0\n",
    "    \n",
    "    # The first round (n=0) is a trial round where each of the 10 ads are selected once\n",
    "    for i in range(0, d):\n",
    "        # print(\"ROUND {} LOOP {}: Number of Selections = {}, Sum of Rewards = {}\".format(n, i, numbers_of_selections[i], sums_of_rewards[i]))\n",
    "\n",
    "        # For the first round, ensure each ad is selected once\n",
    "        if (numbers_of_selections[i] == 0):\n",
    "            numbers_of_selections[i] += 1   # Increment the index of the selection by 1\n",
    "            sums_of_rewards[i] = dataset.values[n, i]  # Check whether the selected ad has a reward in the actual dataset\n",
    "            \n",
    "        average_reward = sums_of_rewards[i] / numbers_of_selections[i]\n",
    "        delta_i = math.sqrt(1.5 * math.log(n + 1) / numbers_of_selections[i])\n",
    "        upper_bound = average_reward + delta_i\n",
    "        # upper_bound = 1e400   # set upper bound to infinity\n",
    "        # print(\"Average Reward = {}, Upper Bound = {}\".format(average_reward, upper_bound))\n",
    "\n",
    "        # Select the ad with the max upper bound\n",
    "        if (upper_bound > max_upper_bound):\n",
    "            max_upper_bound = upper_bound\n",
    "            ad = i   # Set the selected ad as the one with the maximum upper bound\n",
    "        # print(\"Selected Ad: {}, Max Upper Bound: {}\".format(ad, max_upper_bound))\n",
    "        \n",
    "    ads_selected.append(ad)  # Append the selected ad to the list of selected ads\n",
    "    \n",
    "    # For each subequent round after the first round\n",
    "    if (n > 0):\n",
    "        numbers_of_selections[ad] += 1   # Increment the index of the selected ad by 1\n",
    "        reward = dataset.values[n, ad]   # Check whether the selected ad has a reward in the actual dataset\n",
    "        sums_of_rewards[ad] = sums_of_rewards[ad] + reward\n",
    "        # total_reward = total_reward + reward\n",
    "\n",
    "    # print(\"End of round {}:\".format(n))\n",
    "    # print(\"Ads Selected: {}, Number of Selections: {}, Sum of Rewards: {} \\n\".format(ads_selected, numbers_of_selections, sums_of_rewards))"
   ]
  },
  {
   "cell_type": "markdown",
   "id": "9b053a55-56e0-498b-8d81-384e7f6fe804",
   "metadata": {},
   "source": [
    "### Vizualize"
   ]
  },
  {
   "cell_type": "code",
   "execution_count": 163,
   "id": "d16d78b1-1def-4f50-b5c6-9402781a96fd",
   "metadata": {},
   "outputs": [
    {
     "data": {
      "image/png": "[encoded data removed]",
      "text/plain": [
       "<Figure size 640x480 with 1 Axes>"
      ]
     },
     "metadata": {},
     "output_type": "display_data"
    }
   ],
   "source": [
    "plt.hist(ads_selected)\n",
    "plt.title('Histogram of ads selections')\n",
    "plt.xlabel('Ads')\n",
    "plt.ylabel('Number of times each ad was selected')\n",
    "plt.show()"
   ]
  },
  {
   "cell_type": "markdown",
   "id": "e97db013-c051-4769-b65e-f3d58abfefe4",
   "metadata": {},
   "source": [
    "## Thompson Sampling Algorithm"
   ]
  },
  {
   "cell_type": "markdown",
   "id": "33de286b-900b-475d-b5c9-1870471c1262",
   "metadata": {},
   "source": [
    "### Data Prep"
   ]
  },
  {
   "cell_type": "markdown",
   "id": "1d07ae7f-4370-4550-93da-bbee0973cb42",
   "metadata": {
    "tags": []
   },
   "source": [
    "#### Read"
   ]
  },
  {
   "cell_type": "code",
   "execution_count": 169,
   "id": "78ce9688-6d5d-4a5d-b98c-1a93a44d735b",
   "metadata": {},
   "outputs": [
    {
     "data": {
      "text/html": [
       "<div>\n",
       "<style scoped>\n",
       "    .dataframe tbody tr th:only-of-type {\n",
       "        vertical-align: middle;\n",
       "    }\n",
       "\n",
       "    .dataframe tbody tr th {\n",
       "        vertical-align: top;\n",
       "    }\n",
       "\n",
       "    .dataframe thead th {\n",
       "        text-align: right;\n",
       "    }\n",
       "</style>\n",
       "<table border=\"1\" class=\"dataframe\">\n",
       "  <thead>\n",
       "    <tr style=\"text-align: right;\">\n",
       "      <th></th>\n",
       "      <th>Ad 1</th>\n",
       "      <th>Ad 2</th>\n",
       "      <th>Ad 3</th>\n",
       "      <th>Ad 4</th>\n",
       "      <th>Ad 5</th>\n",
       "      <th>Ad 6</th>\n",
       "      <th>Ad 7</th>\n",
       "      <th>Ad 8</th>\n",
       "      <th>Ad 9</th>\n",
       "      <th>Ad 10</th>\n",
       "    </tr>\n",
       "  </thead>\n",
       "  <tbody>\n",
       "    <tr>\n",
       "      <th>0</th>\n",
       "      <td>1</td>\n",
       "      <td>0</td>\n",
       "      <td>0</td>\n",
       "      <td>0</td>\n",
       "      <td>1</td>\n",
       "      <td>0</td>\n",
       "      <td>0</td>\n",
       "      <td>0</td>\n",
       "      <td>1</td>\n",
       "      <td>0</td>\n",
       "    </tr>\n",
       "    <tr>\n",
       "      <th>1</th>\n",
       "      <td>0</td>\n",
       "      <td>0</td>\n",
       "      <td>0</td>\n",
       "      <td>0</td>\n",
       "      <td>0</td>\n",
       "      <td>0</td>\n",
       "      <td>0</td>\n",
       "      <td>0</td>\n",
       "      <td>1</td>\n",
       "      <td>0</td>\n",
       "    </tr>\n",
       "  </tbody>\n",
       "</table>\n",
       "</div>"
      ],
      "text/plain": [
       "   Ad 1  Ad 2  Ad 3  Ad 4  Ad 5  Ad 6  Ad 7  Ad 8  Ad 9  Ad 10\n",
       "0     1     0     0     0     1     0     0     0     1      0\n",
       "1     0     0     0     0     0     0     0     0     1      0"
      ]
     },
     "execution_count": 169,
     "metadata": {},
     "output_type": "execute_result"
    }
   ],
   "source": [
    "dataset = pd.read_csv('data/ReinforcementData1.csv')\n",
    "dataset.head(2)"
   ]
  },
  {
   "cell_type": "markdown",
   "id": "8ae12e61-743d-4284-96a4-4f41c3412112",
   "metadata": {},
   "source": [
    "### Implement Thompson Sampling"
   ]
  },
  {
   "cell_type": "code",
   "execution_count": 212,
   "id": "89602bf7-e95f-424a-9362-0c785c306fc8",
   "metadata": {},
   "outputs": [],
   "source": [
    "import random\n",
    "\n",
    "N = 5000   # Number of rounds for which to run the test (rows in the dataset)\n",
    "d = 10      # Total number of options (columns in the dataset)\n",
    "ads_selected = []\n",
    "numbers_of_rewards_1 = [0] * d  # the number of times selection of the option i resulted in a reward ($N_i^1(n)$)\n",
    "numbers_of_rewards_0 = [0] * d  # the number of times selection of the option i did not result in a reward ($N_i^0(n)$)\n",
    "# total_reward = 0"
   ]
  },
  {
   "cell_type": "code",
   "execution_count": 213,
   "id": "56da87c1-fc46-4903-b8f0-f3f758cd6417",
   "metadata": {},
   "outputs": [
    {
     "data": {
      "text/plain": [
       "([0, 0, 0, 0, 0, 0, 0, 0, 0, 0], [0, 0, 0, 0, 0, 0, 0, 0, 0, 0])"
      ]
     },
     "execution_count": 213,
     "metadata": {},
     "output_type": "execute_result"
    }
   ],
   "source": [
    "numbers_of_rewards_1, numbers_of_rewards_0"
   ]
  },
  {
   "cell_type": "code",
   "execution_count": 214,
   "id": "7de0062f-2876-40e0-8dfd-0f10a69c50a9",
   "metadata": {},
   "outputs": [],
   "source": [
    "for n in range(0, N):\n",
    "    ad = 0\n",
    "    max_theta = 0\n",
    "    for i in range(0, d):\n",
    "        # print(\"ROUND {} LOOP {}:\".format(n, i))\n",
    "        # random.betavariate returns a random beta distribution floating number between 0 and 1\n",
    "        random_beta = random.betavariate(numbers_of_rewards_1[i] + 1, numbers_of_rewards_0[i] + 1)\n",
    "        # print(\"Random Beta: {}, Max Theta: {}\".format(random_beta, max_theta))\n",
    "        if (random_beta > max_theta):\n",
    "            max_theta = random_beta\n",
    "            ad = i\n",
    "        ads_selected.append(ad)\n",
    "        reward = dataset.values[n, ad]\n",
    "        # print(\"Ad Selected: {}, Reward: {}\".format(ads_selected, reward))\n",
    "        if reward == 1:\n",
    "            numbers_of_rewards_1[ad] = numbers_of_rewards_1[ad] + 1\n",
    "        else:\n",
    "            numbers_of_rewards_0[ad] = numbers_of_rewards_0[ad] + 1\n",
    "        # print(\"Number of rewards 1: {}, Number of rewards 0: {}\".format(numbers_of_rewards_1, numbers_of_rewards_0))\n",
    "        # total_reward = total_reward + reward"
   ]
  },
  {
   "cell_type": "markdown",
   "id": "0550db6e-59f0-44c0-bc9c-614be6a96202",
   "metadata": {},
   "source": [
    "### Vizualize"
   ]
  },
  {
   "cell_type": "code",
   "execution_count": 215,
   "id": "cdfca0ce-d2c6-4ce1-aad1-b924cd738160",
   "metadata": {},
   "outputs": [
    {
     "data": {
      "image/png": "[encoded data removed]",
      "text/plain": [
       "<Figure size 640x480 with 1 Axes>"
      ]
     },
     "metadata": {},
     "output_type": "display_data"
    }
   ],
   "source": [
    "plt.hist(ads_selected)\n",
    "plt.title('Histogram of ads selections')\n",
    "plt.xlabel('Ads')\n",
    "plt.ylabel('Number of times each ad was selected')\n",
    "plt.show()"
   ]
  },
  {
   "cell_type": "code",
   "execution_count": null,
   "id": "5ab7c66b-b571-47fb-8d7e-37d01af6358b",
   "metadata": {},
   "outputs": [],
   "source": []
  }
 ],
 "metadata": {
  "kernelspec": {
   "display_name": "Python 3 (ipykernel)",
   "language": "python",
   "name": "python3"
  },
  "language_info": {
   "codemirror_mode": {
    "name": "ipython",
    "version": 3
   },
   "file_extension": ".py",
   "mimetype": "text/x-python",
   "name": "python",
   "nbconvert_exporter": "python",
   "pygments_lexer": "ipython3",
   "version": "3.9.0"
  }
 },
 "nbformat": 4,
 "nbformat_minor": 5
}
