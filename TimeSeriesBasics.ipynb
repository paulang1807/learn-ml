{
 "cells": [
  {
   "cell_type": "markdown",
   "id": "3f65651d-4baa-4d8a-992c-a43d749df81b",
   "metadata": {},
   "source": [
    "Colab Link: https://colab.research.google.com/drive/1u93tB_xbgIrgWNFWrHId_oom7ttz1T01"
   ]
  },
  {
   "cell_type": "code",
   "execution_count": 1,
   "id": "c03c338c-414b-4639-805e-a18db87a0bc6",
   "metadata": {},
   "outputs": [],
   "source": [
    "import numpy as np\n",
    "import matplotlib.pyplot as plt\n",
    "import pandas as pd\n",
    "\n",
    "import statsmodels.tsa.stattools as sts\n",
    "from statsmodels.tsa.seasonal import seasonal_decompose\n",
    "import statsmodels.graphics.tsaplots as sgt"
   ]
  },
  {
   "cell_type": "markdown",
   "id": "9c87be8d-ce31-4167-a306-ac260b93e33a",
   "metadata": {},
   "source": [
    "## Data Prep"
   ]
  },
  {
   "cell_type": "markdown",
   "id": "76c6c3b4-67f7-4175-81e1-5cc23054e31b",
   "metadata": {},
   "source": [
    "### Read Data"
   ]
  },
  {
   "cell_type": "code",
   "execution_count": 132,
   "id": "94fead2f-be52-4d47-9c53-4e89b0112f69",
   "metadata": {},
   "outputs": [],
   "source": [
    "# Parse date column as date when reading data\n",
    "# dayfirst = True uses the dd/mm/yyyy format instead of the default mm/dd/yyyy\n",
    "# we pass the index of the date column to the parse_dates parameter\n",
    "df_ts_base1 = pd.read_csv('data/TimeSeriesData1.csv', dayfirst=True, parse_dates=[0])"
   ]
  },
  {
   "cell_type": "code",
   "execution_count": 133,
   "id": "0fe01b0d-adcf-4709-891f-261fa4aa08b3",
   "metadata": {},
   "outputs": [
    {
     "data": {
      "text/html": [
       "<div>\n",
       "<style scoped>\n",
       "    .dataframe tbody tr th:only-of-type {\n",
       "        vertical-align: middle;\n",
       "    }\n",
       "\n",
       "    .dataframe tbody tr th {\n",
       "        vertical-align: top;\n",
       "    }\n",
       "\n",
       "    .dataframe thead th {\n",
       "        text-align: right;\n",
       "    }\n",
       "</style>\n",
       "<table border=\"1\" class=\"dataframe\">\n",
       "  <thead>\n",
       "    <tr style=\"text-align: right;\">\n",
       "      <th></th>\n",
       "      <th>date</th>\n",
       "      <th>spx</th>\n",
       "      <th>dax</th>\n",
       "      <th>ftse</th>\n",
       "      <th>nikkei</th>\n",
       "    </tr>\n",
       "  </thead>\n",
       "  <tbody>\n",
       "    <tr>\n",
       "      <th>0</th>\n",
       "      <td>1994-01-07</td>\n",
       "      <td>469.90</td>\n",
       "      <td>2224.95</td>\n",
       "      <td>3445.98</td>\n",
       "      <td>18124.01</td>\n",
       "    </tr>\n",
       "    <tr>\n",
       "      <th>1</th>\n",
       "      <td>1994-01-10</td>\n",
       "      <td>475.27</td>\n",
       "      <td>2225.00</td>\n",
       "      <td>3440.58</td>\n",
       "      <td>18443.44</td>\n",
       "    </tr>\n",
       "  </tbody>\n",
       "</table>\n",
       "</div>"
      ],
      "text/plain": [
       "        date     spx      dax     ftse    nikkei\n",
       "0 1994-01-07  469.90  2224.95  3445.98  18124.01\n",
       "1 1994-01-10  475.27  2225.00  3440.58  18443.44"
      ]
     },
     "execution_count": 133,
     "metadata": {},
     "output_type": "execute_result"
    }
   ],
   "source": [
    "df_ts1 = df_ts_base1.copy()\n",
    "df_ts1.head(2)"
   ]
  },
  {
   "cell_type": "markdown",
   "id": "112eb3c4-4dde-417c-9d38-e7909f2e4099",
   "metadata": {},
   "source": [
    "#### Transform date column to date datatype (Optional)"
   ]
  },
  {
   "cell_type": "code",
   "execution_count": 126,
   "id": "5f8956b1-1dfa-4591-af55-5f0954ce3e5f",
   "metadata": {},
   "outputs": [
    {
     "data": {
      "text/html": [
       "<div>\n",
       "<style scoped>\n",
       "    .dataframe tbody tr th:only-of-type {\n",
       "        vertical-align: middle;\n",
       "    }\n",
       "\n",
       "    .dataframe tbody tr th {\n",
       "        vertical-align: top;\n",
       "    }\n",
       "\n",
       "    .dataframe thead th {\n",
       "        text-align: right;\n",
       "    }\n",
       "</style>\n",
       "<table border=\"1\" class=\"dataframe\">\n",
       "  <thead>\n",
       "    <tr style=\"text-align: right;\">\n",
       "      <th></th>\n",
       "      <th>date</th>\n",
       "      <th>spx</th>\n",
       "      <th>dax</th>\n",
       "      <th>ftse</th>\n",
       "      <th>nikkei</th>\n",
       "    </tr>\n",
       "  </thead>\n",
       "  <tbody>\n",
       "    <tr>\n",
       "      <th>0</th>\n",
       "      <td>1994-01-07</td>\n",
       "      <td>469.90</td>\n",
       "      <td>2224.95</td>\n",
       "      <td>3445.98</td>\n",
       "      <td>18124.01</td>\n",
       "    </tr>\n",
       "    <tr>\n",
       "      <th>1</th>\n",
       "      <td>1994-01-10</td>\n",
       "      <td>475.27</td>\n",
       "      <td>2225.00</td>\n",
       "      <td>3440.58</td>\n",
       "      <td>18443.44</td>\n",
       "    </tr>\n",
       "  </tbody>\n",
       "</table>\n",
       "</div>"
      ],
      "text/plain": [
       "        date     spx      dax     ftse    nikkei\n",
       "0 1994-01-07  469.90  2224.95  3445.98  18124.01\n",
       "1 1994-01-10  475.27  2225.00  3440.58  18443.44"
      ]
     },
     "execution_count": 126,
     "metadata": {},
     "output_type": "execute_result"
    }
   ],
   "source": [
    "# We can also convert the date column after reading the csv\n",
    "# We would do this if for some reason we read the date column without parsing it as a date\n",
    "df_ts_base2 = pd.read_csv('data/TimeSeriesData1.csv')\n",
    "df_ts_base2.date = pd.to_datetime(df_ts_base2.date, dayfirst = True)\n",
    "df_ts_base2.head(2)"
   ]
  },
  {
   "cell_type": "code",
   "execution_count": 134,
   "id": "5c55f19d-7e19-453e-9453-9474a6fa0d02",
   "metadata": {},
   "outputs": [
    {
     "data": {
      "text/html": [
       "<div>\n",
       "<style scoped>\n",
       "    .dataframe tbody tr th:only-of-type {\n",
       "        vertical-align: middle;\n",
       "    }\n",
       "\n",
       "    .dataframe tbody tr th {\n",
       "        vertical-align: top;\n",
       "    }\n",
       "\n",
       "    .dataframe thead th {\n",
       "        text-align: right;\n",
       "    }\n",
       "</style>\n",
       "<table border=\"1\" class=\"dataframe\">\n",
       "  <thead>\n",
       "    <tr style=\"text-align: right;\">\n",
       "      <th></th>\n",
       "      <th>date</th>\n",
       "      <th>spx</th>\n",
       "      <th>dax</th>\n",
       "      <th>ftse</th>\n",
       "      <th>nikkei</th>\n",
       "    </tr>\n",
       "  </thead>\n",
       "  <tbody>\n",
       "    <tr>\n",
       "      <th>count</th>\n",
       "      <td>6269</td>\n",
       "      <td>6269.000000</td>\n",
       "      <td>6269.000000</td>\n",
       "      <td>6269.000000</td>\n",
       "      <td>6269.000000</td>\n",
       "    </tr>\n",
       "    <tr>\n",
       "      <th>mean</th>\n",
       "      <td>2006-01-14 19:36:59.492742144</td>\n",
       "      <td>1288.127542</td>\n",
       "      <td>6080.063363</td>\n",
       "      <td>5422.713545</td>\n",
       "      <td>14597.055700</td>\n",
       "    </tr>\n",
       "    <tr>\n",
       "      <th>min</th>\n",
       "      <td>1994-01-07 00:00:00</td>\n",
       "      <td>438.920000</td>\n",
       "      <td>1911.700000</td>\n",
       "      <td>2876.600000</td>\n",
       "      <td>7054.980000</td>\n",
       "    </tr>\n",
       "    <tr>\n",
       "      <th>25%</th>\n",
       "      <td>2000-01-11 00:00:00</td>\n",
       "      <td>990.671905</td>\n",
       "      <td>4069.350000</td>\n",
       "      <td>4486.100000</td>\n",
       "      <td>10709.290000</td>\n",
       "    </tr>\n",
       "    <tr>\n",
       "      <th>50%</th>\n",
       "      <td>2006-01-12 00:00:00</td>\n",
       "      <td>1233.420000</td>\n",
       "      <td>5773.340000</td>\n",
       "      <td>5662.430000</td>\n",
       "      <td>15028.170000</td>\n",
       "    </tr>\n",
       "    <tr>\n",
       "      <th>75%</th>\n",
       "      <td>2012-01-19 00:00:00</td>\n",
       "      <td>1459.987747</td>\n",
       "      <td>7443.070000</td>\n",
       "      <td>6304.250000</td>\n",
       "      <td>17860.470000</td>\n",
       "    </tr>\n",
       "    <tr>\n",
       "      <th>max</th>\n",
       "      <td>2018-01-29 00:00:00</td>\n",
       "      <td>2872.867839</td>\n",
       "      <td>13559.600000</td>\n",
       "      <td>7778.637689</td>\n",
       "      <td>24124.150000</td>\n",
       "    </tr>\n",
       "    <tr>\n",
       "      <th>std</th>\n",
       "      <td>NaN</td>\n",
       "      <td>487.586473</td>\n",
       "      <td>2754.361032</td>\n",
       "      <td>1145.572428</td>\n",
       "      <td>4043.122953</td>\n",
       "    </tr>\n",
       "  </tbody>\n",
       "</table>\n",
       "</div>"
      ],
      "text/plain": [
       "                                date          spx           dax         ftse  \\\n",
       "count                           6269  6269.000000   6269.000000  6269.000000   \n",
       "mean   2006-01-14 19:36:59.492742144  1288.127542   6080.063363  5422.713545   \n",
       "min              1994-01-07 00:00:00   438.920000   1911.700000  2876.600000   \n",
       "25%              2000-01-11 00:00:00   990.671905   4069.350000  4486.100000   \n",
       "50%              2006-01-12 00:00:00  1233.420000   5773.340000  5662.430000   \n",
       "75%              2012-01-19 00:00:00  1459.987747   7443.070000  6304.250000   \n",
       "max              2018-01-29 00:00:00  2872.867839  13559.600000  7778.637689   \n",
       "std                              NaN   487.586473   2754.361032  1145.572428   \n",
       "\n",
       "             nikkei  \n",
       "count   6269.000000  \n",
       "mean   14597.055700  \n",
       "min     7054.980000  \n",
       "25%    10709.290000  \n",
       "50%    15028.170000  \n",
       "75%    17860.470000  \n",
       "max    24124.150000  \n",
       "std     4043.122953  "
      ]
     },
     "execution_count": 134,
     "metadata": {},
     "output_type": "execute_result"
    }
   ],
   "source": [
    "df_ts1.describe()"
   ]
  },
  {
   "cell_type": "markdown",
   "id": "661b6dda-f33b-4cd9-b401-5d47ea4c6420",
   "metadata": {
    "tags": []
   },
   "source": [
    "### Resample Data\n",
    "https://pandas.pydata.org/pandas-docs/stable//reference/api/pandas.DataFrame.resample.html#pandas.DataFrame.resample"
   ]
  },
  {
   "cell_type": "markdown",
   "id": "48d4096f-68cd-4a30-a83d-6f838d189169",
   "metadata": {},
   "source": [
    "#### Downsample"
   ]
  },
  {
   "cell_type": "code",
   "execution_count": 105,
   "id": "49b63109-7e2b-4219-9c0d-c9a078db157c",
   "metadata": {},
   "outputs": [
    {
     "data": {
      "text/html": [
       "<div>\n",
       "<style scoped>\n",
       "    .dataframe tbody tr th:only-of-type {\n",
       "        vertical-align: middle;\n",
       "    }\n",
       "\n",
       "    .dataframe tbody tr th {\n",
       "        vertical-align: top;\n",
       "    }\n",
       "\n",
       "    .dataframe thead th {\n",
       "        text-align: right;\n",
       "    }\n",
       "</style>\n",
       "<table border=\"1\" class=\"dataframe\">\n",
       "  <thead>\n",
       "    <tr style=\"text-align: right;\">\n",
       "      <th></th>\n",
       "      <th>spx</th>\n",
       "      <th>dax</th>\n",
       "      <th>ftse</th>\n",
       "      <th>nikkei</th>\n",
       "    </tr>\n",
       "    <tr>\n",
       "      <th>date</th>\n",
       "      <th></th>\n",
       "      <th></th>\n",
       "      <th></th>\n",
       "      <th></th>\n",
       "    </tr>\n",
       "  </thead>\n",
       "  <tbody>\n",
       "    <tr>\n",
       "      <th>1994-01-31</th>\n",
       "      <td>474.461765</td>\n",
       "      <td>2147.265294</td>\n",
       "      <td>3437.359412</td>\n",
       "      <td>18834.518235</td>\n",
       "    </tr>\n",
       "    <tr>\n",
       "      <th>1994-02-28</th>\n",
       "      <td>471.385500</td>\n",
       "      <td>2123.696500</td>\n",
       "      <td>3396.390500</td>\n",
       "      <td>19712.622000</td>\n",
       "    </tr>\n",
       "  </tbody>\n",
       "</table>\n",
       "</div>"
      ],
      "text/plain": [
       "                   spx          dax         ftse        nikkei\n",
       "date                                                          \n",
       "1994-01-31  474.461765  2147.265294  3437.359412  18834.518235\n",
       "1994-02-28  471.385500  2123.696500  3396.390500  19712.622000"
      ]
     },
     "execution_count": 105,
     "metadata": {},
     "output_type": "execute_result"
    }
   ],
   "source": [
    "df_ts1_mth = df_ts1.resample('M', on='date').mean()\n",
    "df_ts1_mth.head(2)"
   ]
  },
  {
   "cell_type": "markdown",
   "id": "7b78781a-02fd-4f87-9c97-0dc853939a8c",
   "metadata": {},
   "source": [
    "#### Upsample"
   ]
  },
  {
   "cell_type": "code",
   "execution_count": 119,
   "id": "e6313987-c516-4e94-b5c5-d894b4ddba0e",
   "metadata": {},
   "outputs": [
    {
     "data": {
      "text/html": [
       "<div>\n",
       "<style scoped>\n",
       "    .dataframe tbody tr th:only-of-type {\n",
       "        vertical-align: middle;\n",
       "    }\n",
       "\n",
       "    .dataframe tbody tr th {\n",
       "        vertical-align: top;\n",
       "    }\n",
       "\n",
       "    .dataframe thead th {\n",
       "        text-align: right;\n",
       "    }\n",
       "</style>\n",
       "<table border=\"1\" class=\"dataframe\">\n",
       "  <thead>\n",
       "    <tr style=\"text-align: right;\">\n",
       "      <th></th>\n",
       "      <th>spx</th>\n",
       "      <th>dax</th>\n",
       "      <th>ftse</th>\n",
       "      <th>nikkei</th>\n",
       "    </tr>\n",
       "    <tr>\n",
       "      <th>date</th>\n",
       "      <th></th>\n",
       "      <th></th>\n",
       "      <th></th>\n",
       "      <th></th>\n",
       "    </tr>\n",
       "  </thead>\n",
       "  <tbody>\n",
       "    <tr>\n",
       "      <th>1994-01-07 00:00:00</th>\n",
       "      <td>469.90</td>\n",
       "      <td>2224.95</td>\n",
       "      <td>3445.98</td>\n",
       "      <td>18124.01</td>\n",
       "    </tr>\n",
       "    <tr>\n",
       "      <th>1994-01-07 01:00:00</th>\n",
       "      <td>NaN</td>\n",
       "      <td>NaN</td>\n",
       "      <td>NaN</td>\n",
       "      <td>NaN</td>\n",
       "    </tr>\n",
       "    <tr>\n",
       "      <th>1994-01-07 02:00:00</th>\n",
       "      <td>NaN</td>\n",
       "      <td>NaN</td>\n",
       "      <td>NaN</td>\n",
       "      <td>NaN</td>\n",
       "    </tr>\n",
       "    <tr>\n",
       "      <th>1994-01-07 03:00:00</th>\n",
       "      <td>NaN</td>\n",
       "      <td>NaN</td>\n",
       "      <td>NaN</td>\n",
       "      <td>NaN</td>\n",
       "    </tr>\n",
       "    <tr>\n",
       "      <th>1994-01-07 04:00:00</th>\n",
       "      <td>NaN</td>\n",
       "      <td>NaN</td>\n",
       "      <td>NaN</td>\n",
       "      <td>NaN</td>\n",
       "    </tr>\n",
       "    <tr>\n",
       "      <th>...</th>\n",
       "      <td>...</td>\n",
       "      <td>...</td>\n",
       "      <td>...</td>\n",
       "      <td>...</td>\n",
       "    </tr>\n",
       "    <tr>\n",
       "      <th>1994-01-09 22:00:00</th>\n",
       "      <td>NaN</td>\n",
       "      <td>NaN</td>\n",
       "      <td>NaN</td>\n",
       "      <td>NaN</td>\n",
       "    </tr>\n",
       "    <tr>\n",
       "      <th>1994-01-09 23:00:00</th>\n",
       "      <td>NaN</td>\n",
       "      <td>NaN</td>\n",
       "      <td>NaN</td>\n",
       "      <td>NaN</td>\n",
       "    </tr>\n",
       "    <tr>\n",
       "      <th>1994-01-10 00:00:00</th>\n",
       "      <td>475.27</td>\n",
       "      <td>2225.00</td>\n",
       "      <td>3440.58</td>\n",
       "      <td>18443.44</td>\n",
       "    </tr>\n",
       "    <tr>\n",
       "      <th>1994-01-10 01:00:00</th>\n",
       "      <td>NaN</td>\n",
       "      <td>NaN</td>\n",
       "      <td>NaN</td>\n",
       "      <td>NaN</td>\n",
       "    </tr>\n",
       "    <tr>\n",
       "      <th>1994-01-10 02:00:00</th>\n",
       "      <td>NaN</td>\n",
       "      <td>NaN</td>\n",
       "      <td>NaN</td>\n",
       "      <td>NaN</td>\n",
       "    </tr>\n",
       "  </tbody>\n",
       "</table>\n",
       "<p>75 rows × 4 columns</p>\n",
       "</div>"
      ],
      "text/plain": [
       "                        spx      dax     ftse    nikkei\n",
       "date                                                   \n",
       "1994-01-07 00:00:00  469.90  2224.95  3445.98  18124.01\n",
       "1994-01-07 01:00:00     NaN      NaN      NaN       NaN\n",
       "1994-01-07 02:00:00     NaN      NaN      NaN       NaN\n",
       "1994-01-07 03:00:00     NaN      NaN      NaN       NaN\n",
       "1994-01-07 04:00:00     NaN      NaN      NaN       NaN\n",
       "...                     ...      ...      ...       ...\n",
       "1994-01-09 22:00:00     NaN      NaN      NaN       NaN\n",
       "1994-01-09 23:00:00     NaN      NaN      NaN       NaN\n",
       "1994-01-10 00:00:00  475.27  2225.00  3440.58  18443.44\n",
       "1994-01-10 01:00:00     NaN      NaN      NaN       NaN\n",
       "1994-01-10 02:00:00     NaN      NaN      NaN       NaN\n",
       "\n",
       "[75 rows x 4 columns]"
      ]
     },
     "execution_count": 119,
     "metadata": {},
     "output_type": "execute_result"
    }
   ],
   "source": [
    "df_ts1_hr = df_ts1.resample('H', on='date').mean()\n",
    "df_ts1_hr.head(75)"
   ]
  },
  {
   "cell_type": "markdown",
   "id": "996dd0fe-caae-4038-8926-01a2c2000eb2",
   "metadata": {},
   "source": [
    "#### Set Desired Frequency"
   ]
  },
  {
   "cell_type": "code",
   "execution_count": 135,
   "id": "900ff8ac-348d-4ddd-b021-fba6d3cfc635",
   "metadata": {},
   "outputs": [],
   "source": [
    "# Set date column as index if it has not been set as the index based on some prior operation\n",
    "df_ts1.set_index(\"date\", inplace=True)"
   ]
  },
  {
   "cell_type": "code",
   "execution_count": 136,
   "id": "8ae759f2-8713-4053-b686-0e415d9cc0a0",
   "metadata": {},
   "outputs": [
    {
     "data": {
      "text/html": [
       "<div>\n",
       "<style scoped>\n",
       "    .dataframe tbody tr th:only-of-type {\n",
       "        vertical-align: middle;\n",
       "    }\n",
       "\n",
       "    .dataframe tbody tr th {\n",
       "        vertical-align: top;\n",
       "    }\n",
       "\n",
       "    .dataframe thead th {\n",
       "        text-align: right;\n",
       "    }\n",
       "</style>\n",
       "<table border=\"1\" class=\"dataframe\">\n",
       "  <thead>\n",
       "    <tr style=\"text-align: right;\">\n",
       "      <th></th>\n",
       "      <th>spx</th>\n",
       "      <th>dax</th>\n",
       "      <th>ftse</th>\n",
       "      <th>nikkei</th>\n",
       "    </tr>\n",
       "    <tr>\n",
       "      <th>date</th>\n",
       "      <th></th>\n",
       "      <th></th>\n",
       "      <th></th>\n",
       "      <th></th>\n",
       "    </tr>\n",
       "  </thead>\n",
       "  <tbody>\n",
       "    <tr>\n",
       "      <th>1994-01-07</th>\n",
       "      <td>469.90</td>\n",
       "      <td>2224.95</td>\n",
       "      <td>3445.98</td>\n",
       "      <td>18124.01</td>\n",
       "    </tr>\n",
       "    <tr>\n",
       "      <th>1994-01-10</th>\n",
       "      <td>475.27</td>\n",
       "      <td>2225.00</td>\n",
       "      <td>3440.58</td>\n",
       "      <td>18443.44</td>\n",
       "    </tr>\n",
       "  </tbody>\n",
       "</table>\n",
       "</div>"
      ],
      "text/plain": [
       "               spx      dax     ftse    nikkei\n",
       "date                                          \n",
       "1994-01-07  469.90  2224.95  3445.98  18124.01\n",
       "1994-01-10  475.27  2225.00  3440.58  18443.44"
      ]
     },
     "execution_count": 136,
     "metadata": {},
     "output_type": "execute_result"
    }
   ],
   "source": [
    "df_ts1.head(2)"
   ]
  },
  {
   "cell_type": "code",
   "execution_count": 138,
   "id": "ee95efd4-9656-4f93-857a-9cf3c1d610a8",
   "metadata": {},
   "outputs": [],
   "source": [
    "# This will generate new rows for missing periods for the desired frequency\n",
    "# Set the frequency only after setting the date column as index\n",
    "# Parameter 'b' signifies business days\n",
    "# Here we are using 'b' instead of 'd' for all days as our data is relevant only for business days\n",
    "df_ts1 = df_ts1.asfreq(\"b\")"
   ]
  },
  {
   "cell_type": "code",
   "execution_count": 139,
   "id": "2fe376fc-a521-4931-b551-d1e2d6743861",
   "metadata": {},
   "outputs": [
    {
     "data": {
      "text/html": [
       "<div>\n",
       "<style scoped>\n",
       "    .dataframe tbody tr th:only-of-type {\n",
       "        vertical-align: middle;\n",
       "    }\n",
       "\n",
       "    .dataframe tbody tr th {\n",
       "        vertical-align: top;\n",
       "    }\n",
       "\n",
       "    .dataframe thead th {\n",
       "        text-align: right;\n",
       "    }\n",
       "</style>\n",
       "<table border=\"1\" class=\"dataframe\">\n",
       "  <thead>\n",
       "    <tr style=\"text-align: right;\">\n",
       "      <th></th>\n",
       "      <th>spx</th>\n",
       "      <th>dax</th>\n",
       "      <th>ftse</th>\n",
       "      <th>nikkei</th>\n",
       "    </tr>\n",
       "    <tr>\n",
       "      <th>date</th>\n",
       "      <th></th>\n",
       "      <th></th>\n",
       "      <th></th>\n",
       "      <th></th>\n",
       "    </tr>\n",
       "  </thead>\n",
       "  <tbody>\n",
       "    <tr>\n",
       "      <th>1994-01-07</th>\n",
       "      <td>469.90</td>\n",
       "      <td>2224.95</td>\n",
       "      <td>3445.98</td>\n",
       "      <td>18124.01</td>\n",
       "    </tr>\n",
       "    <tr>\n",
       "      <th>1994-01-10</th>\n",
       "      <td>475.27</td>\n",
       "      <td>2225.00</td>\n",
       "      <td>3440.58</td>\n",
       "      <td>18443.44</td>\n",
       "    </tr>\n",
       "  </tbody>\n",
       "</table>\n",
       "</div>"
      ],
      "text/plain": [
       "               spx      dax     ftse    nikkei\n",
       "date                                          \n",
       "1994-01-07  469.90  2224.95  3445.98  18124.01\n",
       "1994-01-10  475.27  2225.00  3440.58  18443.44"
      ]
     },
     "execution_count": 139,
     "metadata": {},
     "output_type": "execute_result"
    }
   ],
   "source": [
    "df_ts1.head(2)"
   ]
  },
  {
   "cell_type": "markdown",
   "id": "dd07efad-de63-4635-9b3e-941643e88165",
   "metadata": {},
   "source": [
    "### Handle Missing Data"
   ]
  },
  {
   "cell_type": "code",
   "execution_count": 140,
   "id": "ddc7c576-4536-4916-aca3-2d38cb357e71",
   "metadata": {},
   "outputs": [
    {
     "data": {
      "text/plain": [
       "spx       8\n",
       "dax       8\n",
       "ftse      8\n",
       "nikkei    8\n",
       "dtype: int64"
      ]
     },
     "execution_count": 140,
     "metadata": {},
     "output_type": "execute_result"
    }
   ],
   "source": [
    "# Find number of missing elements\n",
    "df_ts1.isna().sum()"
   ]
  },
  {
   "cell_type": "code",
   "execution_count": 141,
   "id": "da9fefc0-8bbe-45ec-9dad-484a63d23e81",
   "metadata": {},
   "outputs": [],
   "source": [
    "# Front fill NaNs\n",
    "df_ts1 = df_ts1.ffill()"
   ]
  },
  {
   "cell_type": "code",
   "execution_count": 142,
   "id": "066eafa5-c4b5-4c04-be0b-ea24b85a7960",
   "metadata": {},
   "outputs": [
    {
     "data": {
      "text/plain": [
       "spx       0\n",
       "dax       0\n",
       "ftse      0\n",
       "nikkei    0\n",
       "dtype: int64"
      ]
     },
     "execution_count": 142,
     "metadata": {},
     "output_type": "execute_result"
    }
   ],
   "source": [
    "df_ts1.isna().sum()"
   ]
  },
  {
   "cell_type": "code",
   "execution_count": null,
   "id": "21ceffac-4d3f-4236-a75d-1ae3c2b1eb1d",
   "metadata": {
    "collapsed": true,
    "jupyter": {
     "outputs_hidden": true
    },
    "tags": []
   },
   "outputs": [
    {
     "data": {
      "text/html": [
       "<div>\n",
       "<style scoped>\n",
       "    .dataframe tbody tr th:only-of-type {\n",
       "        vertical-align: middle;\n",
       "    }\n",
       "\n",
       "    .dataframe tbody tr th {\n",
       "        vertical-align: top;\n",
       "    }\n",
       "\n",
       "    .dataframe thead th {\n",
       "        text-align: right;\n",
       "    }\n",
       "</style>\n",
       "<table border=\"1\" class=\"dataframe\">\n",
       "  <thead>\n",
       "    <tr style=\"text-align: right;\">\n",
       "      <th></th>\n",
       "      <th>spx</th>\n",
       "      <th>dax</th>\n",
       "      <th>ftse</th>\n",
       "      <th>nikkei</th>\n",
       "    </tr>\n",
       "    <tr>\n",
       "      <th>date</th>\n",
       "      <th></th>\n",
       "      <th></th>\n",
       "      <th></th>\n",
       "      <th></th>\n",
       "    </tr>\n",
       "  </thead>\n",
       "  <tbody>\n",
       "    <tr>\n",
       "      <th>1994-01-07 00:00:00</th>\n",
       "      <td>469.900000</td>\n",
       "      <td>2224.950000</td>\n",
       "      <td>3445.980000</td>\n",
       "      <td>18124.010000</td>\n",
       "    </tr>\n",
       "    <tr>\n",
       "      <th>1994-01-07 01:00:00</th>\n",
       "      <td>469.974583</td>\n",
       "      <td>2224.950694</td>\n",
       "      <td>3445.905000</td>\n",
       "      <td>18128.446528</td>\n",
       "    </tr>\n",
       "    <tr>\n",
       "      <th>1994-01-07 02:00:00</th>\n",
       "      <td>470.049167</td>\n",
       "      <td>2224.951389</td>\n",
       "      <td>3445.830000</td>\n",
       "      <td>18132.883056</td>\n",
       "    </tr>\n",
       "    <tr>\n",
       "      <th>1994-01-07 03:00:00</th>\n",
       "      <td>470.123750</td>\n",
       "      <td>2224.952083</td>\n",
       "      <td>3445.755000</td>\n",
       "      <td>18137.319583</td>\n",
       "    </tr>\n",
       "    <tr>\n",
       "      <th>1994-01-07 04:00:00</th>\n",
       "      <td>470.198333</td>\n",
       "      <td>2224.952778</td>\n",
       "      <td>3445.680000</td>\n",
       "      <td>18141.756111</td>\n",
       "    </tr>\n",
       "    <tr>\n",
       "      <th>...</th>\n",
       "      <td>...</td>\n",
       "      <td>...</td>\n",
       "      <td>...</td>\n",
       "      <td>...</td>\n",
       "    </tr>\n",
       "    <tr>\n",
       "      <th>1994-01-09 22:00:00</th>\n",
       "      <td>475.120833</td>\n",
       "      <td>2224.998611</td>\n",
       "      <td>3440.730000</td>\n",
       "      <td>18434.566944</td>\n",
       "    </tr>\n",
       "    <tr>\n",
       "      <th>1994-01-09 23:00:00</th>\n",
       "      <td>475.195417</td>\n",
       "      <td>2224.999306</td>\n",
       "      <td>3440.655000</td>\n",
       "      <td>18439.003472</td>\n",
       "    </tr>\n",
       "    <tr>\n",
       "      <th>1994-01-10 00:00:00</th>\n",
       "      <td>475.270000</td>\n",
       "      <td>2225.000000</td>\n",
       "      <td>3440.580000</td>\n",
       "      <td>18443.440000</td>\n",
       "    </tr>\n",
       "    <tr>\n",
       "      <th>1994-01-10 01:00:00</th>\n",
       "      <td>475.222500</td>\n",
       "      <td>2225.129167</td>\n",
       "      <td>3439.462917</td>\n",
       "      <td>18445.182083</td>\n",
       "    </tr>\n",
       "    <tr>\n",
       "      <th>1994-01-10 02:00:00</th>\n",
       "      <td>475.175000</td>\n",
       "      <td>2225.258333</td>\n",
       "      <td>3438.345833</td>\n",
       "      <td>18446.924167</td>\n",
       "    </tr>\n",
       "  </tbody>\n",
       "</table>\n",
       "<p>75 rows × 4 columns</p>\n",
       "</div>"
      ],
      "text/plain": [
       "                            spx          dax         ftse        nikkei\n",
       "date                                                                   \n",
       "1994-01-07 00:00:00  469.900000  2224.950000  3445.980000  18124.010000\n",
       "1994-01-07 01:00:00  469.974583  2224.950694  3445.905000  18128.446528\n",
       "1994-01-07 02:00:00  470.049167  2224.951389  3445.830000  18132.883056\n",
       "1994-01-07 03:00:00  470.123750  2224.952083  3445.755000  18137.319583\n",
       "1994-01-07 04:00:00  470.198333  2224.952778  3445.680000  18141.756111\n",
       "...                         ...          ...          ...           ...\n",
       "1994-01-09 22:00:00  475.120833  2224.998611  3440.730000  18434.566944\n",
       "1994-01-09 23:00:00  475.195417  2224.999306  3440.655000  18439.003472\n",
       "1994-01-10 00:00:00  475.270000  2225.000000  3440.580000  18443.440000\n",
       "1994-01-10 01:00:00  475.222500  2225.129167  3439.462917  18445.182083\n",
       "1994-01-10 02:00:00  475.175000  2225.258333  3438.345833  18446.924167\n",
       "\n",
       "[75 rows x 4 columns]"
      ]
     },
     "execution_count": 120,
     "metadata": {},
     "output_type": "execute_result"
    }
   ],
   "source": [
    "# Fill in missing values with linear interpolation (euqally spaced values)\n",
    "# https://pandas.pydata.org/pandas-docs/stable//reference/api/pandas.DataFrame.interpolate.html\n",
    "df_ts1_hr_interpolated = df_ts1_hr.interpolate(method='linear')\n",
    "df_ts1_hr_interpolated.head(75)"
   ]
  },
  {
   "cell_type": "markdown",
   "id": "28cf8642-4365-4f30-9785-d48574636367",
   "metadata": {},
   "source": [
    "## Feature Engineering"
   ]
  },
  {
   "cell_type": "markdown",
   "id": "8eb5de1e-fe04-4ed8-a0bc-264a002a41f3",
   "metadata": {},
   "source": [
    "### Add Basic Date Time Columns\n",
    "https://pandas.pydata.org/pandas-docs/stable//reference/series.html#datetimelike-properties"
   ]
  },
  {
   "cell_type": "code",
   "execution_count": 143,
   "id": "5f9abd71-d04f-402e-aa0d-fc1b7974f523",
   "metadata": {},
   "outputs": [
    {
     "data": {
      "text/html": [
       "<div>\n",
       "<style scoped>\n",
       "    .dataframe tbody tr th:only-of-type {\n",
       "        vertical-align: middle;\n",
       "    }\n",
       "\n",
       "    .dataframe tbody tr th {\n",
       "        vertical-align: top;\n",
       "    }\n",
       "\n",
       "    .dataframe thead th {\n",
       "        text-align: right;\n",
       "    }\n",
       "</style>\n",
       "<table border=\"1\" class=\"dataframe\">\n",
       "  <thead>\n",
       "    <tr style=\"text-align: right;\">\n",
       "      <th></th>\n",
       "      <th>spx</th>\n",
       "      <th>dax</th>\n",
       "      <th>ftse</th>\n",
       "      <th>nikkei</th>\n",
       "      <th>year</th>\n",
       "      <th>month</th>\n",
       "      <th>day</th>\n",
       "      <th>date</th>\n",
       "    </tr>\n",
       "    <tr>\n",
       "      <th>date</th>\n",
       "      <th></th>\n",
       "      <th></th>\n",
       "      <th></th>\n",
       "      <th></th>\n",
       "      <th></th>\n",
       "      <th></th>\n",
       "      <th></th>\n",
       "      <th></th>\n",
       "    </tr>\n",
       "  </thead>\n",
       "  <tbody>\n",
       "    <tr>\n",
       "      <th>1994-01-07</th>\n",
       "      <td>469.90</td>\n",
       "      <td>2224.95</td>\n",
       "      <td>3445.98</td>\n",
       "      <td>18124.01</td>\n",
       "      <td>1994</td>\n",
       "      <td>1</td>\n",
       "      <td>7</td>\n",
       "      <td>1994-01-07</td>\n",
       "    </tr>\n",
       "    <tr>\n",
       "      <th>1994-01-10</th>\n",
       "      <td>475.27</td>\n",
       "      <td>2225.00</td>\n",
       "      <td>3440.58</td>\n",
       "      <td>18443.44</td>\n",
       "      <td>1994</td>\n",
       "      <td>1</td>\n",
       "      <td>10</td>\n",
       "      <td>1994-01-10</td>\n",
       "    </tr>\n",
       "  </tbody>\n",
       "</table>\n",
       "</div>"
      ],
      "text/plain": [
       "               spx      dax     ftse    nikkei  year  month  day        date\n",
       "date                                                                        \n",
       "1994-01-07  469.90  2224.95  3445.98  18124.01  1994      1    7  1994-01-07\n",
       "1994-01-10  475.27  2225.00  3440.58  18443.44  1994      1   10  1994-01-10"
      ]
     },
     "execution_count": 143,
     "metadata": {},
     "output_type": "execute_result"
    }
   ],
   "source": [
    "# Add additional date columns as needed\n",
    "df_ts1['year'] = df_ts1.index.year\n",
    "df_ts1['month'] = df_ts1.index.month\n",
    "df_ts1['day'] = df_ts1.index.day\n",
    "# Create a new column with just the date component\n",
    "df_ts1['date'] = df_ts1.index.date\n",
    "df_ts1.head(2)"
   ]
  },
  {
   "cell_type": "markdown",
   "id": "7b1860a4-6e56-4ef6-924c-cb0ec0d4db68",
   "metadata": {},
   "source": [
    "### Lag Features\n",
    "https://pandas.pydata.org/pandas-docs/stable//reference/api/pandas.Series.shift.html#pandas.Series.shift"
   ]
  },
  {
   "cell_type": "code",
   "execution_count": 144,
   "id": "db6250fd-b380-452d-b787-bbc8805360a5",
   "metadata": {},
   "outputs": [
    {
     "data": {
      "text/html": [
       "<div>\n",
       "<style scoped>\n",
       "    .dataframe tbody tr th:only-of-type {\n",
       "        vertical-align: middle;\n",
       "    }\n",
       "\n",
       "    .dataframe tbody tr th {\n",
       "        vertical-align: top;\n",
       "    }\n",
       "\n",
       "    .dataframe thead th {\n",
       "        text-align: right;\n",
       "    }\n",
       "</style>\n",
       "<table border=\"1\" class=\"dataframe\">\n",
       "  <thead>\n",
       "    <tr style=\"text-align: right;\">\n",
       "      <th></th>\n",
       "      <th>spx</th>\n",
       "      <th>dax</th>\n",
       "      <th>ftse</th>\n",
       "      <th>nikkei</th>\n",
       "      <th>year</th>\n",
       "      <th>month</th>\n",
       "      <th>day</th>\n",
       "      <th>date</th>\n",
       "      <th>last_day</th>\n",
       "      <th>last_week</th>\n",
       "    </tr>\n",
       "    <tr>\n",
       "      <th>date</th>\n",
       "      <th></th>\n",
       "      <th></th>\n",
       "      <th></th>\n",
       "      <th></th>\n",
       "      <th></th>\n",
       "      <th></th>\n",
       "      <th></th>\n",
       "      <th></th>\n",
       "      <th></th>\n",
       "      <th></th>\n",
       "    </tr>\n",
       "  </thead>\n",
       "  <tbody>\n",
       "    <tr>\n",
       "      <th>1994-01-07</th>\n",
       "      <td>469.90</td>\n",
       "      <td>2224.95</td>\n",
       "      <td>3445.98</td>\n",
       "      <td>18124.01</td>\n",
       "      <td>1994</td>\n",
       "      <td>1</td>\n",
       "      <td>7</td>\n",
       "      <td>1994-01-07</td>\n",
       "      <td>NaN</td>\n",
       "      <td>NaN</td>\n",
       "    </tr>\n",
       "    <tr>\n",
       "      <th>1994-01-10</th>\n",
       "      <td>475.27</td>\n",
       "      <td>2225.00</td>\n",
       "      <td>3440.58</td>\n",
       "      <td>18443.44</td>\n",
       "      <td>1994</td>\n",
       "      <td>1</td>\n",
       "      <td>10</td>\n",
       "      <td>1994-01-10</td>\n",
       "      <td>469.9</td>\n",
       "      <td>NaN</td>\n",
       "    </tr>\n",
       "  </tbody>\n",
       "</table>\n",
       "</div>"
      ],
      "text/plain": [
       "               spx      dax     ftse    nikkei  year  month  day        date  \\\n",
       "date                                                                           \n",
       "1994-01-07  469.90  2224.95  3445.98  18124.01  1994      1    7  1994-01-07   \n",
       "1994-01-10  475.27  2225.00  3440.58  18443.44  1994      1   10  1994-01-10   \n",
       "\n",
       "            last_day  last_week  \n",
       "date                             \n",
       "1994-01-07       NaN        NaN  \n",
       "1994-01-10     469.9        NaN  "
      ]
     },
     "execution_count": 144,
     "metadata": {},
     "output_type": "execute_result"
    }
   ],
   "source": [
    "df_ts1['last_day'] =  df_ts1.spx.shift(1)   # last data point's value\n",
    "df_ts1['last_week'] =  df_ts1.spx.shift(7)  # values for current -7th data point\n",
    "df_ts1.head(2)"
   ]
  },
  {
   "cell_type": "markdown",
   "id": "3a556bf7-be3c-4aea-bbce-6f8d52874041",
   "metadata": {},
   "source": [
    "### Window Features\n",
    "https://pandas.pydata.org/pandas-docs/stable//reference/api/pandas.Series.rolling.html#pandas.Series.rolling"
   ]
  },
  {
   "cell_type": "code",
   "execution_count": 145,
   "id": "58888d5b-732a-4e05-87c5-0c4efaa2607a",
   "metadata": {},
   "outputs": [
    {
     "data": {
      "text/html": [
       "<div>\n",
       "<style scoped>\n",
       "    .dataframe tbody tr th:only-of-type {\n",
       "        vertical-align: middle;\n",
       "    }\n",
       "\n",
       "    .dataframe tbody tr th {\n",
       "        vertical-align: top;\n",
       "    }\n",
       "\n",
       "    .dataframe thead th {\n",
       "        text-align: right;\n",
       "    }\n",
       "</style>\n",
       "<table border=\"1\" class=\"dataframe\">\n",
       "  <thead>\n",
       "    <tr style=\"text-align: right;\">\n",
       "      <th></th>\n",
       "      <th>spx</th>\n",
       "      <th>dax</th>\n",
       "      <th>ftse</th>\n",
       "      <th>nikkei</th>\n",
       "      <th>year</th>\n",
       "      <th>month</th>\n",
       "      <th>day</th>\n",
       "      <th>date</th>\n",
       "      <th>last_day</th>\n",
       "      <th>last_week</th>\n",
       "      <th>2day_mean</th>\n",
       "      <th>2day_max</th>\n",
       "    </tr>\n",
       "    <tr>\n",
       "      <th>date</th>\n",
       "      <th></th>\n",
       "      <th></th>\n",
       "      <th></th>\n",
       "      <th></th>\n",
       "      <th></th>\n",
       "      <th></th>\n",
       "      <th></th>\n",
       "      <th></th>\n",
       "      <th></th>\n",
       "      <th></th>\n",
       "      <th></th>\n",
       "      <th></th>\n",
       "    </tr>\n",
       "  </thead>\n",
       "  <tbody>\n",
       "    <tr>\n",
       "      <th>1994-01-07</th>\n",
       "      <td>469.90</td>\n",
       "      <td>2224.95</td>\n",
       "      <td>3445.98</td>\n",
       "      <td>18124.01</td>\n",
       "      <td>1994</td>\n",
       "      <td>1</td>\n",
       "      <td>7</td>\n",
       "      <td>1994-01-07</td>\n",
       "      <td>NaN</td>\n",
       "      <td>NaN</td>\n",
       "      <td>NaN</td>\n",
       "      <td>NaN</td>\n",
       "    </tr>\n",
       "    <tr>\n",
       "      <th>1994-01-10</th>\n",
       "      <td>475.27</td>\n",
       "      <td>2225.00</td>\n",
       "      <td>3440.58</td>\n",
       "      <td>18443.44</td>\n",
       "      <td>1994</td>\n",
       "      <td>1</td>\n",
       "      <td>10</td>\n",
       "      <td>1994-01-10</td>\n",
       "      <td>469.9</td>\n",
       "      <td>NaN</td>\n",
       "      <td>472.585</td>\n",
       "      <td>475.27</td>\n",
       "    </tr>\n",
       "  </tbody>\n",
       "</table>\n",
       "</div>"
      ],
      "text/plain": [
       "               spx      dax     ftse    nikkei  year  month  day        date  \\\n",
       "date                                                                           \n",
       "1994-01-07  469.90  2224.95  3445.98  18124.01  1994      1    7  1994-01-07   \n",
       "1994-01-10  475.27  2225.00  3440.58  18443.44  1994      1   10  1994-01-10   \n",
       "\n",
       "            last_day  last_week  2day_mean  2day_max  \n",
       "date                                                  \n",
       "1994-01-07       NaN        NaN        NaN       NaN  \n",
       "1994-01-10     469.9        NaN    472.585    475.27  "
      ]
     },
     "execution_count": 145,
     "metadata": {},
     "output_type": "execute_result"
    }
   ],
   "source": [
    "# Aggreates over specified rolling windows\n",
    "df_ts1['2day_mean'] =  df_ts1.spx.rolling(window=2).mean()\n",
    "df_ts1['2day_max'] =  df_ts1.spx.rolling(window=2).max()\n",
    "df_ts1.head(2)"
   ]
  },
  {
   "cell_type": "markdown",
   "id": "3735a7bb-864c-4fee-9b3e-76abc52ce861",
   "metadata": {},
   "source": [
    "### Expanding (Cumulative) Features\n",
    "https://pandas.pydata.org/pandas-docs/stable//reference/api/pandas.Series.expanding.html#pandas.Series.expanding"
   ]
  },
  {
   "cell_type": "code",
   "execution_count": 146,
   "id": "1d8af8c9-cae0-4e36-829e-3f954185ead7",
   "metadata": {},
   "outputs": [
    {
     "data": {
      "text/html": [
       "<div>\n",
       "<style scoped>\n",
       "    .dataframe tbody tr th:only-of-type {\n",
       "        vertical-align: middle;\n",
       "    }\n",
       "\n",
       "    .dataframe tbody tr th {\n",
       "        vertical-align: top;\n",
       "    }\n",
       "\n",
       "    .dataframe thead th {\n",
       "        text-align: right;\n",
       "    }\n",
       "</style>\n",
       "<table border=\"1\" class=\"dataframe\">\n",
       "  <thead>\n",
       "    <tr style=\"text-align: right;\">\n",
       "      <th></th>\n",
       "      <th>spx</th>\n",
       "      <th>dax</th>\n",
       "      <th>ftse</th>\n",
       "      <th>nikkei</th>\n",
       "      <th>year</th>\n",
       "      <th>month</th>\n",
       "      <th>day</th>\n",
       "      <th>date</th>\n",
       "      <th>last_day</th>\n",
       "      <th>last_week</th>\n",
       "      <th>2day_mean</th>\n",
       "      <th>2day_max</th>\n",
       "      <th>cum_max</th>\n",
       "    </tr>\n",
       "    <tr>\n",
       "      <th>date</th>\n",
       "      <th></th>\n",
       "      <th></th>\n",
       "      <th></th>\n",
       "      <th></th>\n",
       "      <th></th>\n",
       "      <th></th>\n",
       "      <th></th>\n",
       "      <th></th>\n",
       "      <th></th>\n",
       "      <th></th>\n",
       "      <th></th>\n",
       "      <th></th>\n",
       "      <th></th>\n",
       "    </tr>\n",
       "  </thead>\n",
       "  <tbody>\n",
       "    <tr>\n",
       "      <th>1994-01-07</th>\n",
       "      <td>469.90</td>\n",
       "      <td>2224.95</td>\n",
       "      <td>3445.98</td>\n",
       "      <td>18124.01</td>\n",
       "      <td>1994</td>\n",
       "      <td>1</td>\n",
       "      <td>7</td>\n",
       "      <td>1994-01-07</td>\n",
       "      <td>NaN</td>\n",
       "      <td>NaN</td>\n",
       "      <td>NaN</td>\n",
       "      <td>NaN</td>\n",
       "      <td>469.90</td>\n",
       "    </tr>\n",
       "    <tr>\n",
       "      <th>1994-01-10</th>\n",
       "      <td>475.27</td>\n",
       "      <td>2225.00</td>\n",
       "      <td>3440.58</td>\n",
       "      <td>18443.44</td>\n",
       "      <td>1994</td>\n",
       "      <td>1</td>\n",
       "      <td>10</td>\n",
       "      <td>1994-01-10</td>\n",
       "      <td>469.9</td>\n",
       "      <td>NaN</td>\n",
       "      <td>472.585</td>\n",
       "      <td>475.27</td>\n",
       "      <td>475.27</td>\n",
       "    </tr>\n",
       "  </tbody>\n",
       "</table>\n",
       "</div>"
      ],
      "text/plain": [
       "               spx      dax     ftse    nikkei  year  month  day        date  \\\n",
       "date                                                                           \n",
       "1994-01-07  469.90  2224.95  3445.98  18124.01  1994      1    7  1994-01-07   \n",
       "1994-01-10  475.27  2225.00  3440.58  18443.44  1994      1   10  1994-01-10   \n",
       "\n",
       "            last_day  last_week  2day_mean  2day_max  cum_max  \n",
       "date                                                           \n",
       "1994-01-07       NaN        NaN        NaN       NaN   469.90  \n",
       "1994-01-10     469.9        NaN    472.585    475.27   475.27  "
      ]
     },
     "execution_count": 146,
     "metadata": {},
     "output_type": "execute_result"
    }
   ],
   "source": [
    "# Cumulative max\n",
    "df_ts1['cum_max'] =  df_ts1.spx.expanding().max()\n",
    "df_ts1.head(2)"
   ]
  },
  {
   "cell_type": "markdown",
   "id": "929e7a2c-f32c-4eb2-8228-91a729a401c4",
   "metadata": {},
   "source": [
    "### Add / Remove other columns"
   ]
  },
  {
   "cell_type": "code",
   "execution_count": 147,
   "id": "ca283739-d292-4422-9ba9-72d3d602d7ba",
   "metadata": {},
   "outputs": [],
   "source": [
    "# Add column\n",
    "df_ts1['market_value'] = df_ts1.spx"
   ]
  },
  {
   "cell_type": "code",
   "execution_count": 148,
   "id": "48d44e8d-0722-4df4-a6d5-a6eeefe514e6",
   "metadata": {},
   "outputs": [],
   "source": [
    "# Remove columns\n",
    "del df_ts1['spx'],df_ts1['dax'], df_ts1['ftse'], df_ts1['nikkei']"
   ]
  },
  {
   "cell_type": "code",
   "execution_count": 149,
   "id": "e909013d-721f-450d-8471-0a9d322e9e60",
   "metadata": {},
   "outputs": [
    {
     "data": {
      "text/html": [
       "<div>\n",
       "<style scoped>\n",
       "    .dataframe tbody tr th:only-of-type {\n",
       "        vertical-align: middle;\n",
       "    }\n",
       "\n",
       "    .dataframe tbody tr th {\n",
       "        vertical-align: top;\n",
       "    }\n",
       "\n",
       "    .dataframe thead th {\n",
       "        text-align: right;\n",
       "    }\n",
       "</style>\n",
       "<table border=\"1\" class=\"dataframe\">\n",
       "  <thead>\n",
       "    <tr style=\"text-align: right;\">\n",
       "      <th></th>\n",
       "      <th>year</th>\n",
       "      <th>month</th>\n",
       "      <th>day</th>\n",
       "      <th>date</th>\n",
       "      <th>last_day</th>\n",
       "      <th>last_week</th>\n",
       "      <th>2day_mean</th>\n",
       "      <th>2day_max</th>\n",
       "      <th>cum_max</th>\n",
       "      <th>market_value</th>\n",
       "    </tr>\n",
       "    <tr>\n",
       "      <th>date</th>\n",
       "      <th></th>\n",
       "      <th></th>\n",
       "      <th></th>\n",
       "      <th></th>\n",
       "      <th></th>\n",
       "      <th></th>\n",
       "      <th></th>\n",
       "      <th></th>\n",
       "      <th></th>\n",
       "      <th></th>\n",
       "    </tr>\n",
       "  </thead>\n",
       "  <tbody>\n",
       "    <tr>\n",
       "      <th>1994-01-07</th>\n",
       "      <td>1994</td>\n",
       "      <td>1</td>\n",
       "      <td>7</td>\n",
       "      <td>1994-01-07</td>\n",
       "      <td>NaN</td>\n",
       "      <td>NaN</td>\n",
       "      <td>NaN</td>\n",
       "      <td>NaN</td>\n",
       "      <td>469.90</td>\n",
       "      <td>469.90</td>\n",
       "    </tr>\n",
       "    <tr>\n",
       "      <th>1994-01-10</th>\n",
       "      <td>1994</td>\n",
       "      <td>1</td>\n",
       "      <td>10</td>\n",
       "      <td>1994-01-10</td>\n",
       "      <td>469.9</td>\n",
       "      <td>NaN</td>\n",
       "      <td>472.585</td>\n",
       "      <td>475.27</td>\n",
       "      <td>475.27</td>\n",
       "      <td>475.27</td>\n",
       "    </tr>\n",
       "  </tbody>\n",
       "</table>\n",
       "</div>"
      ],
      "text/plain": [
       "            year  month  day        date  last_day  last_week  2day_mean  \\\n",
       "date                                                                       \n",
       "1994-01-07  1994      1    7  1994-01-07       NaN        NaN        NaN   \n",
       "1994-01-10  1994      1   10  1994-01-10     469.9        NaN    472.585   \n",
       "\n",
       "            2day_max  cum_max  market_value  \n",
       "date                                         \n",
       "1994-01-07       NaN   469.90        469.90  \n",
       "1994-01-10    475.27   475.27        475.27  "
      ]
     },
     "execution_count": 149,
     "metadata": {},
     "output_type": "execute_result"
    }
   ],
   "source": [
    "df_ts1.head(2)"
   ]
  },
  {
   "cell_type": "markdown",
   "id": "892a8953-5853-4079-9967-4eb15d2ceb59",
   "metadata": {},
   "source": [
    "## Explore"
   ]
  },
  {
   "cell_type": "markdown",
   "id": "b8edb6e7-7a2c-4b3c-a09c-cb799cb22a02",
   "metadata": {},
   "source": [
    "### Test for Stationarity"
   ]
  },
  {
   "cell_type": "code",
   "execution_count": 33,
   "id": "59cebae1-4674-4043-96ba-5ecc32a31d47",
   "metadata": {},
   "outputs": [
    {
     "data": {
      "text/plain": [
       "(1.1194986381728407,\n",
       " 0.9953796476080692,\n",
       " 10,\n",
       " 6266,\n",
       " {'1%': -3.4313940441948807,\n",
       "  '5%': -2.8620013751563964,\n",
       "  '10%': -2.567015587023998},\n",
       " 50258.209867750025)"
      ]
     },
     "execution_count": 33,
     "metadata": {},
     "output_type": "execute_result"
    }
   ],
   "source": [
    "adfuller_stats = sts.adfuller(df_ts1.market_value)\n",
    "adfuller_stats"
   ]
  },
  {
   "cell_type": "code",
   "execution_count": 97,
   "id": "735527f7-6934-4dc1-947e-056a931a37bd",
   "metadata": {},
   "outputs": [
    {
     "name": "stdout",
     "output_type": "stream",
     "text": [
      "Test Statistic:  1.1194986381728407\n",
      "At 1% significance level, we can say that Data comes from a stationary process:  False\n",
      "At 5% significance level, we can say that Data comes from a stationary process:  False\n",
      "At 10% significance level, we can say that Data comes from a stationary process:  False\n",
      "P-Value:  0.9953796476080692\n",
      "Number of lags used in regression:  10\n",
      "Number of observations used in analysis:  6266\n",
      "Critical Values for Test Statistic:  {'1%': -3.4313940441948807, '5%': -2.8620013751563964, '10%': -2.567015587023998}\n",
      "Maximized Informaton Criteria provided:  50258.209867750025\n"
     ]
    }
   ],
   "source": [
    "print(\"Test Statistic: \", adfuller_stats[0])\n",
    "print(\"At 1% significance level, we can say that Data comes from a stationary process: \", adfuller_stats[0] < adfuller_stats[4]['1%']) \n",
    "print(\"At 5% significance level, we can say that Data comes from a stationary process: \", adfuller_stats[0] < adfuller_stats[4]['5%']) \n",
    "print(\"At 10% significance level, we can say that Data comes from a stationary process: \", adfuller_stats[0] < adfuller_stats[4]['10%']) \n",
    "# P-Value gives the probability of not rejecting the null\n",
    "print(\"P-Value: \", adfuller_stats[1])\n",
    "print(\"Number of lags used in regression: \", adfuller_stats[2])\n",
    "print(\"Number of observations used in analysis: \", adfuller_stats[3])\n",
    "print(\"Critical Values for Test Statistic: \", adfuller_stats[4])\n",
    "# Maximized Informaton Criteria provided there is some autocorrelation\n",
    "# The lower the values, the easier to predict futute values\n",
    "print(\"Maximized Informaton Criteria provided: \", adfuller_stats[5])"
   ]
  },
  {
   "cell_type": "markdown",
   "id": "b21f9a3d-c11c-43eb-815a-a374d3ec92eb",
   "metadata": {},
   "source": [
    "### Test for Seasonality"
   ]
  },
  {
   "cell_type": "code",
   "execution_count": 166,
   "id": "df2b80a8-82e2-4724-8087-3b0ff985ac13",
   "metadata": {},
   "outputs": [
    {
     "data": {
      "text/html": [
       "<div>\n",
       "<style scoped>\n",
       "    .dataframe tbody tr th:only-of-type {\n",
       "        vertical-align: middle;\n",
       "    }\n",
       "\n",
       "    .dataframe tbody tr th {\n",
       "        vertical-align: top;\n",
       "    }\n",
       "\n",
       "    .dataframe thead th {\n",
       "        text-align: right;\n",
       "    }\n",
       "</style>\n",
       "<table border=\"1\" class=\"dataframe\">\n",
       "  <thead>\n",
       "    <tr style=\"text-align: right;\">\n",
       "      <th></th>\n",
       "      <th>MilesMM</th>\n",
       "    </tr>\n",
       "    <tr>\n",
       "      <th>Month</th>\n",
       "      <th></th>\n",
       "    </tr>\n",
       "  </thead>\n",
       "  <tbody>\n",
       "    <tr>\n",
       "      <th>1963-01-01</th>\n",
       "      <td>6827</td>\n",
       "    </tr>\n",
       "    <tr>\n",
       "      <th>1963-02-01</th>\n",
       "      <td>6178</td>\n",
       "    </tr>\n",
       "  </tbody>\n",
       "</table>\n",
       "</div>"
      ],
      "text/plain": [
       "            MilesMM\n",
       "Month              \n",
       "1963-01-01     6827\n",
       "1963-02-01     6178"
      ]
     },
     "execution_count": 166,
     "metadata": {},
     "output_type": "execute_result"
    }
   ],
   "source": [
    "df_ts_base3 = pd.read_csv('data/TimeSeriesData2.csv', parse_dates=[0])\n",
    "df_ts_base3.set_index(\"Month\", inplace=True)\n",
    "df_ts_base3.head(2)"
   ]
  },
  {
   "cell_type": "code",
   "execution_count": 158,
   "id": "fa811d71-e935-4200-8681-e16fce921db7",
   "metadata": {},
   "outputs": [
    {
     "data": {
      "image/png": "[encoded data removed]",
      "text/plain": [
       "<Figure size 640x480 with 4 Axes>"
      ]
     },
     "metadata": {},
     "output_type": "display_data"
    }
   ],
   "source": [
    "s_dec_additive = seasonal_decompose(df_ts_base3.MilesMM, model = \"additive\")\n",
    "s_dec_additive.plot()\n",
    "plt.show()"
   ]
  },
  {
   "cell_type": "code",
   "execution_count": 159,
   "id": "36a47f29-ae81-45dd-960e-0a4cdb4f159b",
   "metadata": {},
   "outputs": [
    {
     "data": {
      "image/png": "[encoded data removed]",
      "text/plain": [
       "<Figure size 640x480 with 4 Axes>"
      ]
     },
     "metadata": {},
     "output_type": "display_data"
    }
   ],
   "source": [
    "s_dec_multiplicative = seasonal_decompose(df_ts_base3.MilesMM, model = \"multiplicative\")\n",
    "s_dec_multiplicative.plot()\n",
    "plt.show()"
   ]
  },
  {
   "cell_type": "markdown",
   "id": "e2272a3c-432a-4717-87e4-62513d7d7d31",
   "metadata": {},
   "source": [
    "Since the **Seasonal** effect does not show any trend in either the additive or the multiplicative test, the data is not seasonal"
   ]
  },
  {
   "cell_type": "markdown",
   "id": "11516ac5-a5f7-4e11-9289-7a07d03a9e19",
   "metadata": {},
   "source": [
    "#### Differencing\n",
    "https://pandas.pydata.org/pandas-docs/stable//reference/api/pandas.Series.diff.html#pandas.Series.diff"
   ]
  },
  {
   "cell_type": "markdown",
   "id": "5d03173f-e61c-47c4-9a84-0422d910e74b",
   "metadata": {},
   "source": [
    "##### Remove Trend"
   ]
  },
  {
   "cell_type": "code",
   "execution_count": 173,
   "id": "a6966585-1702-4d63-ad4d-bc8939253806",
   "metadata": {},
   "outputs": [
    {
     "data": {
      "text/html": [
       "<div>\n",
       "<style scoped>\n",
       "    .dataframe tbody tr th:only-of-type {\n",
       "        vertical-align: middle;\n",
       "    }\n",
       "\n",
       "    .dataframe tbody tr th {\n",
       "        vertical-align: top;\n",
       "    }\n",
       "\n",
       "    .dataframe thead th {\n",
       "        text-align: right;\n",
       "    }\n",
       "</style>\n",
       "<table border=\"1\" class=\"dataframe\">\n",
       "  <thead>\n",
       "    <tr style=\"text-align: right;\">\n",
       "      <th></th>\n",
       "      <th>MilesMM</th>\n",
       "      <th>diff1</th>\n",
       "    </tr>\n",
       "    <tr>\n",
       "      <th>Month</th>\n",
       "      <th></th>\n",
       "      <th></th>\n",
       "    </tr>\n",
       "  </thead>\n",
       "  <tbody>\n",
       "    <tr>\n",
       "      <th>1963-01-01</th>\n",
       "      <td>6827</td>\n",
       "      <td>NaN</td>\n",
       "    </tr>\n",
       "    <tr>\n",
       "      <th>1963-02-01</th>\n",
       "      <td>6178</td>\n",
       "      <td>-649.0</td>\n",
       "    </tr>\n",
       "  </tbody>\n",
       "</table>\n",
       "</div>"
      ],
      "text/plain": [
       "            MilesMM  diff1\n",
       "Month                     \n",
       "1963-01-01     6827    NaN\n",
       "1963-02-01     6178 -649.0"
      ]
     },
     "execution_count": 173,
     "metadata": {},
     "output_type": "execute_result"
    }
   ],
   "source": [
    "# Lag 1 Differencing to get rid of trends\n",
    "# Uses the difference of current and 'Lag1' values (col - col.shift(1))\n",
    "df_ts_base3['diff1'] = df_ts_base3['MilesMM'].diff(periods=1)\n",
    "df_ts_base3.head(2)"
   ]
  },
  {
   "cell_type": "code",
   "execution_count": 176,
   "id": "0f642d32-5680-403e-ad81-59adfbfa08d2",
   "metadata": {},
   "outputs": [
    {
     "data": {
      "image/png": "[encoded data removed]",
      "text/plain": [
       "<Figure size 640x480 with 4 Axes>"
      ]
     },
     "metadata": {},
     "output_type": "display_data"
    }
   ],
   "source": [
    "# plot decompose for column 3 and all rows excluding row 1 as missing values are not handled in the decompose function\n",
    "s_dec_additive_diff1 = seasonal_decompose(df_ts_base3.iloc[1:,1], model = \"additive\")\n",
    "s_dec_additive_diff1.plot()\n",
    "plt.show()"
   ]
  },
  {
   "cell_type": "markdown",
   "id": "a682f9dc-f453-4d5d-acd3-53ced712c755",
   "metadata": {},
   "source": [
    "##### Remove Seasonality"
   ]
  },
  {
   "cell_type": "code",
   "execution_count": 180,
   "id": "6705a6b2-f26a-4ea9-94b1-6f69de31abb7",
   "metadata": {},
   "outputs": [
    {
     "data": {
      "image/png": "[encoded data removed]",
      "text/plain": [
       "<Figure size 640x480 with 4 Axes>"
      ]
     },
     "metadata": {},
     "output_type": "display_data"
    }
   ],
   "source": [
    "# Lag 12 Differencing to get rid of monthly seasonality\n",
    "# Uses the difference of current and 'Lag12' values (col - col.shift(12))\n",
    "df_ts_base3['diff12'] = df_ts_base3['diff1'].diff(periods=12)\n",
    "s_dec_additive_diff12 = seasonal_decompose(df_ts_base3.iloc[13:,2], model = \"additive\").plot()\n",
    "plt.show()"
   ]
  },
  {
   "cell_type": "markdown",
   "id": "02191b9d-b9bc-488a-8d9f-9d47127665cf",
   "metadata": {},
   "source": [
    "### Test for Autocorrelation (ACF)"
   ]
  },
  {
   "cell_type": "code",
   "execution_count": 36,
   "id": "17d95e97-528d-4e3a-bb24-2ca438a1a166",
   "metadata": {},
   "outputs": [
    {
     "data": {
      "image/png": "[encoded data removed]",
      "text/plain": [
       "<Figure size 640x480 with 1 Axes>"
      ]
     },
     "metadata": {},
     "output_type": "display_data"
    }
   ],
   "source": [
    "# zero = False means that the current period is not considered\n",
    "# as the correlation between the current period and itself will always be 1\n",
    "# 40 is the optimal number of lags for time series analysis\n",
    "sgt.plot_acf(df_ts1.market_value, lags = 40, zero = False)\n",
    "plt.title(\"ACF S&P\", size = 24)\n",
    "plt.show()"
   ]
  },
  {
   "cell_type": "markdown",
   "id": "83f87240-e49c-4df1-a15b-b344a1d004c8",
   "metadata": {},
   "source": [
    "### Test for Partial Autocorrelation (PACF)"
   ]
  },
  {
   "cell_type": "code",
   "execution_count": 37,
   "id": "3c24eb10-732b-419c-a644-bfa2db112cac",
   "metadata": {},
   "outputs": [
    {
     "data": {
      "image/png": "[encoded data removed]",
      "text/plain": [
       "<Figure size 640x480 with 1 Axes>"
      ]
     },
     "metadata": {},
     "output_type": "display_data"
    }
   ],
   "source": [
    "sgt.plot_pacf(df_ts1.market_value, lags = 40, zero = False, method = ('ols'))\n",
    "plt.title(\"PACF S&P\", size = 24)\n",
    "plt.show()"
   ]
  },
  {
   "cell_type": "markdown",
   "id": "03e8d249-01b1-41d7-b068-858d34cf210a",
   "metadata": {},
   "source": [
    "## Train Test Split"
   ]
  },
  {
   "cell_type": "code",
   "execution_count": 38,
   "id": "55e0bdad-cb38-45d7-afa8-db941bcad354",
   "metadata": {},
   "outputs": [],
   "source": [
    "# Get the lenght of the dataframe and \n",
    "# Split dataframe into 80:20 for train:test split\n",
    "\n",
    "size = int(len(df_ts1) * 0.8)\n",
    "\n",
    "df_train_ts1 = df_ts1.iloc[:size]\n",
    "df_test_ts1 = df_ts1.iloc[size:]"
   ]
  },
  {
   "cell_type": "code",
   "execution_count": 39,
   "id": "9d455c69-0fde-4962-8a5d-9c854d7bac98",
   "metadata": {},
   "outputs": [
    {
     "data": {
      "text/html": [
       "<div>\n",
       "<style scoped>\n",
       "    .dataframe tbody tr th:only-of-type {\n",
       "        vertical-align: middle;\n",
       "    }\n",
       "\n",
       "    .dataframe tbody tr th {\n",
       "        vertical-align: top;\n",
       "    }\n",
       "\n",
       "    .dataframe thead th {\n",
       "        text-align: right;\n",
       "    }\n",
       "</style>\n",
       "<table border=\"1\" class=\"dataframe\">\n",
       "  <thead>\n",
       "    <tr style=\"text-align: right;\">\n",
       "      <th></th>\n",
       "      <th>market_value</th>\n",
       "    </tr>\n",
       "    <tr>\n",
       "      <th>date</th>\n",
       "      <th></th>\n",
       "    </tr>\n",
       "  </thead>\n",
       "  <tbody>\n",
       "    <tr>\n",
       "      <th>2013-04-04</th>\n",
       "      <td>1559.979316</td>\n",
       "    </tr>\n",
       "    <tr>\n",
       "      <th>2013-04-05</th>\n",
       "      <td>1553.278930</td>\n",
       "    </tr>\n",
       "  </tbody>\n",
       "</table>\n",
       "</div>"
      ],
      "text/plain": [
       "            market_value\n",
       "date                    \n",
       "2013-04-04   1559.979316\n",
       "2013-04-05   1553.278930"
      ]
     },
     "execution_count": 39,
     "metadata": {},
     "output_type": "execute_result"
    }
   ],
   "source": [
    "df_train_ts1.tail(2)"
   ]
  },
  {
   "cell_type": "code",
   "execution_count": 40,
   "id": "ea87f56d-c68d-47a9-952b-41c427c0d806",
   "metadata": {},
   "outputs": [
    {
     "data": {
      "text/html": [
       "<div>\n",
       "<style scoped>\n",
       "    .dataframe tbody tr th:only-of-type {\n",
       "        vertical-align: middle;\n",
       "    }\n",
       "\n",
       "    .dataframe tbody tr th {\n",
       "        vertical-align: top;\n",
       "    }\n",
       "\n",
       "    .dataframe thead th {\n",
       "        text-align: right;\n",
       "    }\n",
       "</style>\n",
       "<table border=\"1\" class=\"dataframe\">\n",
       "  <thead>\n",
       "    <tr style=\"text-align: right;\">\n",
       "      <th></th>\n",
       "      <th>market_value</th>\n",
       "    </tr>\n",
       "    <tr>\n",
       "      <th>date</th>\n",
       "      <th></th>\n",
       "    </tr>\n",
       "  </thead>\n",
       "  <tbody>\n",
       "    <tr>\n",
       "      <th>2013-04-08</th>\n",
       "      <td>1563.071269</td>\n",
       "    </tr>\n",
       "    <tr>\n",
       "      <th>2013-04-09</th>\n",
       "      <td>1568.607909</td>\n",
       "    </tr>\n",
       "  </tbody>\n",
       "</table>\n",
       "</div>"
      ],
      "text/plain": [
       "            market_value\n",
       "date                    \n",
       "2013-04-08   1563.071269\n",
       "2013-04-09   1568.607909"
      ]
     },
     "execution_count": 40,
     "metadata": {},
     "output_type": "execute_result"
    }
   ],
   "source": [
    "df_test_ts1.head(2)"
   ]
  },
  {
   "cell_type": "code",
   "execution_count": 42,
   "id": "9c2245b1-5ca5-40fd-a517-eff87efe7c99",
   "metadata": {},
   "outputs": [
    {
     "data": {
      "text/plain": [
       "(5021, 1256)"
      ]
     },
     "execution_count": 42,
     "metadata": {},
     "output_type": "execute_result"
    }
   ],
   "source": [
    "len(df_train_ts1), len(df_test_ts1)"
   ]
  }
 ],
 "metadata": {
  "kernelspec": {
   "display_name": "Python 3 (ipykernel)",
   "language": "python",
   "name": "python3"
  },
  "language_info": {
   "codemirror_mode": {
    "name": "ipython",
    "version": 3
   },
   "file_extension": ".py",
   "mimetype": "text/x-python",
   "name": "python",
   "nbconvert_exporter": "python",
   "pygments_lexer": "ipython3",
   "version": "3.9.0"
  }
 },
 "nbformat": 4,
 "nbformat_minor": 5
}
